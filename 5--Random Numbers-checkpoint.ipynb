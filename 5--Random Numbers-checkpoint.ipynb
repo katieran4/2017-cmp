{
 "cells": [
  {
   "cell_type": "code",
   "execution_count": 108,
   "metadata": {},
   "outputs": [
    {
     "name": "stdout",
     "output_type": "stream",
     "text": [
      "First die says 1 & Second die says 3\n"
     ]
    },
    {
     "data": {
      "image/png": "[encoded data removed]",
      "text/plain": [
       "<matplotlib.figure.Figure at 0x8c2b510>"
      ]
     },
     "metadata": {},
     "output_type": "display_data"
    }
   ],
   "source": [
    "# Part a)Generate a code to simulate rolling two 6-faced dice\n",
    "\n",
    "import matplotlib.pyplot as plt\n",
    "from random import randint\n",
    "\n",
    "roll_one= randint(1,6)\n",
    "\n",
    "roll_two= randint(1,6)\n",
    "\n",
    "print ('First die says', roll_one, '& Second die says', roll_two)\n",
    "\n",
    "plt.xlim([1,6])\n",
    "plt.ylim([0,2])\n",
    "plt.hist (roll_one, color=\"mediumspringgreen\")\n",
    "plt.hist (roll_two, color=\"darkorchid\")\n",
    "plt.show()\n"
   ]
  },
  {
   "cell_type": "code",
   "execution_count": 122,
   "metadata": {},
   "outputs": [
    {
     "name": "stdout",
     "output_type": "stream",
     "text": [
      "Probability of rolling two 6s simultaneously is 0.02798\n"
     ]
    },
    {
     "data": {
      "image/png": "[encoded data removed]",
      "text/plain": [
       "<matplotlib.figure.Figure at 0x69ba9b0>"
      ]
     },
     "metadata": {},
     "output_type": "display_data"
    },
    {
     "data": {
      "image/png": "[encoded data removed]",
      "text/plain": [
       "<matplotlib.figure.Figure at 0x6cb1910>"
      ]
     },
     "metadata": {},
     "output_type": "display_data"
    }
   ],
   "source": [
    "#Part b: Calculate the probability of rolling certain numbers together in N number of rolls\n",
    "import matplotlib.pyplot as plt\n",
    "from random import randint\n",
    "\n",
    "N=1000000\n",
    "count=0\n",
    "\n",
    "one= []\n",
    "two= []\n",
    "\n",
    "for i in range(N):\n",
    "    roll_one= randint(1,6)\n",
    "    one.append(roll_one)\n",
    "    \n",
    "    roll_two= randint(1,6)\n",
    "    two.append(roll_two)\n",
    "    \n",
    "    if roll_one==6 and roll_two==6:\n",
    "        count+=1\n",
    "        \n",
    "P=count/N\n",
    "\n",
    "print ('Probability of rolling two 6s simultaneously is', P)\n",
    "\n",
    "plt.xlim([1,6])\n",
    "plt.ylim([0,(N/3)])\n",
    "plt.hist (one, color=\"limegreen\")\n",
    "plt.show()\n",
    "\n",
    "plt.xlim([1,6])\n",
    "plt.ylim([0,(N/3)])\n",
    "plt.hist (two, color=\"darkorchid\")\n",
    "plt.show()\n"
   ]
  },
  {
   "cell_type": "code",
   "execution_count": 96,
   "metadata": {},
   "outputs": [
    {
     "data": {
      "image/png": "[encoded data removed]",
      "text/plain": [
       "<matplotlib.figure.Figure at 0x9f036b0>"
      ]
     },
     "metadata": {},
     "output_type": "display_data"
    },
    {
     "data": {
      "image/png": "[encoded data removed]",
      "text/plain": [
       "<matplotlib.figure.Figure at 0x8c1d210>"
      ]
     },
     "metadata": {},
     "output_type": "display_data"
    }
   ],
   "source": [
    "# Find a set of 'magic numbers' which when plugged into the linear congruential method\n",
    "# will yield random numbers\n",
    "\n",
    "import matplotlib.pyplot as plt\n",
    "\n",
    "N = 100\n",
    "a = 569\n",
    "c = 869\n",
    "m = 11\n",
    "x = 1\n",
    "results = []\n",
    "\n",
    "for i in range(N):\n",
    "    x = (a*x+c)%m\n",
    "    results.append(x-5)\n",
    "    \n",
    "plt.plot(results,\"o\", color=\"green\")\n",
    "plt.show()\n",
    "\n",
    "plt.hist(results, color=\"darkviolet\")\n",
    "plt.show()"
   ]
  },
  {
   "cell_type": "code",
   "execution_count": null,
   "metadata": {
    "collapsed": true
   },
   "outputs": [],
   "source": []
  }
 ],
 "metadata": {
  "kernelspec": {
   "display_name": "Python 3",
   "language": "python",
   "name": "python3"
  },
  "language_info": {
   "codemirror_mode": {
    "name": "ipython",
    "version": 3
   },
   "file_extension": ".py",
   "mimetype": "text/x-python",
   "name": "python",
   "nbconvert_exporter": "python",
   "pygments_lexer": "ipython3",
   "version": "3.6.1"
  }
 },
 "nbformat": 4,
 "nbformat_minor": 2
}
