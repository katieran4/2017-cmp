{
 "cells": [
  {
   "cell_type": "code",
   "execution_count": 1,
   "metadata": {},
   "outputs": [
    {
     "data": {
      "text/plain": [
       "'Specifically, this model calculates the PDF for Solid Argon, an FCC structure'"
      ]
     },
     "execution_count": 1,
     "metadata": {},
     "output_type": "execute_result"
    }
   ],
   "source": [
    "'''Objective: To combine the ML input arrays atomic position and lattice data into a single array \n",
    "                by use of radial pair distribution function'''\n",
    "\n",
    "'''Specifically, this model calculates the PDF for Solid Argon, an FCC structure'''"
   ]
  },
  {
   "cell_type": "code",
   "execution_count": 2,
   "metadata": {},
   "outputs": [],
   "source": [
    "import numpy as np\n",
    "import matplotlib.pyplot as plt\n",
    "from scipy import spatial "
   ]
  },
  {
   "cell_type": "code",
   "execution_count": 3,
   "metadata": {},
   "outputs": [
    {
     "name": "stdout",
     "output_type": "stream",
     "text": [
      "[[5.25 0.   0.  ]\n",
      " [0.   5.25 0.  ]\n",
      " [0.   0.   5.25]]\n"
     ]
    }
   ],
   "source": [
    "L= 5.25\n",
    "X1 = L * np.eye(3)\n",
    "print(X1)\n"
   ]
  },
  {
   "cell_type": "code",
   "execution_count": 4,
   "metadata": {
    "scrolled": true
   },
   "outputs": [],
   "source": [
    "A1= np.array([0,0,0]).reshape(1,3)\n",
    "A2= np.array([0,0.5,0.5]).reshape(1,3)\n",
    "A3= np.array([0.5,0.5,0]).reshape(1,3)\n",
    "A4= np.array([0.5,0,.5]).reshape(1,3)\n",
    "\n",
    "X2= np.array([[0,0,0],[0,.5,.5], [.5,.5,0], [.5,0,.5]]) \n",
    "\n",
    "coor = []\n",
    "N=1\n",
    "for i in range(-N,N+1):\n",
    "    for j in range(-N,N+1):\n",
    "        for k in range(-N,N+1):\n",
    "            for x2 in X2:\n",
    "                coor.append(x2+[i,j,k])\n",
    "\n",
    "supercell=np.asarray(coor).reshape(4*(2*N+1)**3,3)"
   ]
  },
  {
   "cell_type": "code",
   "execution_count": 5,
   "metadata": {
    "scrolled": true
   },
   "outputs": [],
   "source": [
    "rij_dot = np.dot(supercell, X1)"
   ]
  },
  {
   "cell_type": "code",
   "execution_count": 6,
   "metadata": {},
   "outputs": [],
   "source": [
    "V1= np.dot(A1, X1)\n",
    "V2= np.dot(A2, X1)\n",
    "V3= np.dot(A3, X1)\n",
    "V4= np.dot(A4, X1)\n",
    "\n",
    "rij_dist1= spatial.distance.cdist(rij_dot, V1, metric='euclidean')\n",
    "rij_dist2= spatial.distance.cdist(rij_dot, V2, metric='euclidean')\n",
    "rij_dist3= spatial.distance.cdist(rij_dot, V3, metric='euclidean')\n",
    "rij_dist4= spatial.distance.cdist(rij_dot, V4, metric='euclidean')\n"
   ]
  },
  {
   "cell_type": "code",
   "execution_count": 7,
   "metadata": {
    "scrolled": true
   },
   "outputs": [
    {
     "name": "stdout",
     "output_type": "stream",
     "text": [
      "[0, 0, 0, 0, 0, 0, 0, 0, 0, 0, 0, 0, 0, 0, 0, 0, 0, 12, 0, 0, 0, 0, 0, 0, 0, 6, 0, 0, 0, 0, 0, 24, 0, 0, 0, 0, 12, 0, 0, 0, 12, 0, 0, 0, 8, 0, 0, 0, 24, 0]\n"
     ]
    }
   ],
   "source": [
    "'''Na = number of reference atoms in unit cell \n",
    "   r = the radii varying at each step by dr=0.2\n",
    "   delta function between rij and r gives a 1 or 0 only\n",
    "         gives 1 only if r<rij<r+dr, meaning we found an atom at that r'''\n",
    "\n",
    "\n",
    "Na= 4\n",
    "dr = 0.2\n",
    "R1= []\n",
    "\n",
    "r= np.arange(0.2, 10.2, 0.2)\n",
    "\n",
    "#def delta(r, rij):\n",
    "\n",
    "for i in np.nditer(r):\n",
    "    count1=0\n",
    "    for j in np.nditer(rij_dist1):\n",
    "        if i < j <= (i+dr):\n",
    "            count1 += 1\n",
    "    R1.append(count1)\n",
    "\n",
    "print(R1)\n",
    "#print(r)"
   ]
  },
  {
   "cell_type": "code",
   "execution_count": 8,
   "metadata": {},
   "outputs": [
    {
     "name": "stdout",
     "output_type": "stream",
     "text": [
      "[0, 0, 0, 0, 0, 0, 0, 0, 0, 0, 0, 0, 0, 0, 0, 0, 0, 12, 0, 0, 0, 0, 0, 0, 0, 6, 0, 0, 0, 0, 0, 24, 0, 0, 0, 0, 12, 0, 0, 0, 12, 0, 0, 0, 8, 0, 0, 0, 24, 0]\n"
     ]
    }
   ],
   "source": [
    "R2= []\n",
    "\n",
    "for i2 in np.nditer(r):\n",
    "    count2=0\n",
    "    for j2 in np.nditer(rij_dist2):\n",
    "        if i2 < j2 <= (i2+dr):\n",
    "            count2 += 1\n",
    "    R2.append(count2)\n",
    "\n",
    "print(R2)"
   ]
  },
  {
   "cell_type": "code",
   "execution_count": 9,
   "metadata": {},
   "outputs": [
    {
     "name": "stdout",
     "output_type": "stream",
     "text": [
      "[0, 0, 0, 0, 0, 0, 0, 0, 0, 0, 0, 0, 0, 0, 0, 0, 0, 12, 0, 0, 0, 0, 0, 0, 0, 6, 0, 0, 0, 0, 0, 24, 0, 0, 0, 0, 12, 0, 0, 0, 12, 0, 0, 0, 8, 0, 0, 0, 24, 0]\n"
     ]
    }
   ],
   "source": [
    "R3=[]\n",
    "for i3 in np.nditer(r):\n",
    "    count3=0\n",
    "    for j3 in np.nditer(rij_dist3):\n",
    "        if i3 < j3 <= (i3+dr):\n",
    "            count3 += 1\n",
    "    R3.append(count3)\n",
    "    \n",
    "print(R3)"
   ]
  },
  {
   "cell_type": "code",
   "execution_count": 10,
   "metadata": {},
   "outputs": [
    {
     "name": "stdout",
     "output_type": "stream",
     "text": [
      "[0, 0, 0, 0, 0, 0, 0, 0, 0, 0, 0, 0, 0, 0, 0, 0, 0, 12, 0, 0, 0, 0, 0, 0, 0, 6, 0, 0, 0, 0, 0, 24, 0, 0, 0, 0, 12, 0, 0, 0, 12, 0, 0, 0, 8, 0, 0, 0, 24, 0]\n"
     ]
    }
   ],
   "source": [
    "R4= []\n",
    "for i4 in np.nditer(r):\n",
    "    count4=0\n",
    "    for j4 in np.nditer(rij_dist4):\n",
    "        if i4 < j4 <= (i4+dr):\n",
    "            count4 += 1\n",
    "    R4.append(count4)\n",
    "    \n",
    "print(R4)"
   ]
  },
  {
   "cell_type": "code",
   "execution_count": 11,
   "metadata": {},
   "outputs": [],
   "source": [
    "R_1 = np.asarray([R1]).reshape(50,1)\n",
    "R_2 = np.asarray([R2]).reshape(50,1)\n",
    "R_3 = np.asarray([R3]).reshape(50,1)\n",
    "R_4 = np.asarray([R4]).reshape(50,1)\n",
    "\n",
    "add= R_1 + R_2 + R_3 + R_4"
   ]
  },
  {
   "cell_type": "code",
   "execution_count": 12,
   "metadata": {},
   "outputs": [
    {
     "name": "stdout",
     "output_type": "stream",
     "text": [
      "0.027642803153007236\n"
     ]
    }
   ],
   "source": [
    "#rho= number of particles/volume\n",
    "rho = 4/ ((L)**3)\n",
    "print(rho)"
   ]
  },
  {
   "cell_type": "code",
   "execution_count": 13,
   "metadata": {},
   "outputs": [],
   "source": [
    "from math import pi\n",
    "\n",
    "K= (4* pi * dr * rho * Na)\n",
    "\n",
    "kr2 = np.asarray(K*(r**2)).reshape(50,1)\n",
    "\n",
    "R_norm = add/kr2\n",
    "\n",
    "#print(R_norm)\n"
   ]
  },
  {
   "cell_type": "code",
   "execution_count": 14,
   "metadata": {},
   "outputs": [
    {
     "data": {
      "text/plain": [
       "Text(0,0.5,'PDF Value')"
      ]
     },
     "execution_count": 14,
     "metadata": {},
     "output_type": "execute_result"
    },
    {
     "data": {
      "image/png": "[encoded data removed]",
      "text/plain": [
       "<matplotlib.figure.Figure at 0x1b5302584e0>"
      ]
     },
     "metadata": {},
     "output_type": "display_data"
    }
   ],
   "source": [
    "plt.plot(r, add, color=('green'))\n",
    "plt.title(\"Normalized Coordination Numbers vs radius\")\n",
    "plt.xlabel(\"Radius [Angstrom]\")\n",
    "plt.ylabel(\"PDF Value\")"
   ]
  },
  {
   "cell_type": "code",
   "execution_count": 15,
   "metadata": {},
   "outputs": [
    {
     "data": {
      "text/plain": [
       "Text(0,0.5,'PDF Value')"
      ]
     },
     "execution_count": 15,
     "metadata": {},
     "output_type": "execute_result"
    },
    {
     "data": {
      "image/png": "[encoded data removed]",
      "text/plain": [
       "<matplotlib.figure.Figure at 0x1b52e033208>"
      ]
     },
     "metadata": {},
     "output_type": "display_data"
    }
   ],
   "source": [
    "plt.plot(r, R_norm, color=('darkorchid'))\n",
    "plt.title(\"Normalized Coordination Numbers vs radius\")\n",
    "plt.xlabel(\"Radius [Angstrom]\")\n",
    "plt.ylabel(\"PDF Value\")"
   ]
  },
  {
   "cell_type": "code",
   "execution_count": null,
   "metadata": {},
   "outputs": [],
   "source": []
  }
 ],
 "metadata": {
  "kernelspec": {
   "display_name": "Python 3",
   "language": "python",
   "name": "python3"
  },
  "language_info": {
   "codemirror_mode": {
    "name": "ipython",
    "version": 3
   },
   "file_extension": ".py",
   "mimetype": "text/x-python",
   "name": "python",
   "nbconvert_exporter": "python",
   "pygments_lexer": "ipython3",
   "version": "3.6.3"
  }
 },
 "nbformat": 4,
 "nbformat_minor": 2
}
