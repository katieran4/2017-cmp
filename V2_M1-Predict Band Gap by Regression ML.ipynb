{
 "cells": [
  {
   "cell_type": "code",
   "execution_count": null,
   "metadata": {},
   "outputs": [],
   "source": [
    "'''Objective: Build a model to predict the band gap of a material based on what element it is,\n",
    "            its position in space, and its lattice information, using regression based machine learning'''\n",
    "\n",
    "'''V2 works on X1 dataset only'''"
   ]
  },
  {
   "cell_type": "code",
   "execution_count": 33,
   "metadata": {},
   "outputs": [
    {
     "name": "stdout",
     "output_type": "stream",
     "text": [
      "1.0032\n"
     ]
    }
   ],
   "source": [
    "\n",
    "\n",
    "#Call data\n",
    "\n",
    "from aflow import *\n",
    "\n",
    "result = search(batch_size=20\n",
    "        ).filter(K.Egap > 1\n",
    "        ).filter(K.nspecies == 1)\n",
    "\n",
    "#part = result[0:1000]\n",
    "\n",
    "#len(part)\n",
    "print(result[0].Egap)\n",
    "#for entry in result[0:5]:\n",
    "    #print(entry.Egap)"
   ]
  },
  {
   "cell_type": "code",
   "execution_count": 34,
   "metadata": {},
   "outputs": [],
   "source": [
    "#make data right type/shape\n",
    "\n",
    "#make X1 from atomic name to atomic number\n",
    "from mendeleev import element\n",
    "import numpy as np\n",
    "\n",
    "at_num = []\n",
    "\n",
    "for i in result[0:6]:\n",
    "    ele = (i.species[0])\n",
    "    z= ele.replace('\\n','')\n",
    "    number= element(z).atomic_number\n",
    "    #print(number)\n",
    "    at_num.append(number)\n",
    "    \n",
    "#print(at_num)\n",
    "\n",
    "x1= np.asarray(at_num).reshape(-1,1)\n"
   ]
  },
  {
   "cell_type": "code",
   "execution_count": 35,
   "metadata": {},
   "outputs": [
    {
     "name": "stdout",
     "output_type": "stream",
     "text": [
      "[[34]\n",
      " [ 9]\n",
      " [14]\n",
      " [14]\n",
      " [ 8]\n",
      " [ 8]]\n"
     ]
    }
   ],
   "source": [
    "print(x1)"
   ]
  },
  {
   "cell_type": "code",
   "execution_count": 36,
   "metadata": {},
   "outputs": [
    {
     "name": "stdout",
     "output_type": "stream",
     "text": [
      "[[34]\n",
      " [ 9]\n",
      " [14]\n",
      " [14]\n",
      " [ 8]\n",
      " [ 8]]\n",
      "[  4.523779   4.523779   5.049212  90.        90.       120.      ]\n",
      "[  3.546542   3.546542   3.910963  90.        90.       120.      ]\n",
      "[ 10.21488  10.21495  10.38431  90.       90.      119.9998 ]\n",
      "[ 10.8115  10.8115  10.8115 109.4712 109.4712 109.4712]\n",
      "[ 6.934511  7.59636   7.826332 89.9968   90.       90.      ]\n",
      "[  5.171968   5.171968   7.033757  90.        90.       136.9788  ]\n",
      "[1.0032, 1.0066, 1.1182, 1.1937, 1.1997, 1.2933]\n"
     ]
    }
   ],
   "source": [
    "\n",
    "\n",
    "#Define X and Y\n",
    "\n",
    "   #entry.species, entry.geometry, entry.positions_fractional\n",
    "    \n",
    "\n",
    "Y=[]\n",
    "\n",
    "X1= x1         #at_num\n",
    "print(X1)\n",
    "    \n",
    "for entry in result[0:6]:\n",
    "    X2= entry.positions_fractional\n",
    "    \n",
    "    X3= entry. geometry\n",
    "    print(X3)\n",
    "    \n",
    "    \n",
    "    \n",
    "    \n",
    "for entry in result[0:6]:\n",
    "    BG= entry.Egap\n",
    "    Y.append(BG)\n",
    "    #print(Y)\n",
    "print(Y)"
   ]
  },
  {
   "cell_type": "code",
   "execution_count": 37,
   "metadata": {
    "scrolled": true
   },
   "outputs": [],
   "source": [
    "#Split the data\n",
    "\n",
    "from sklearn.cross_validation import train_test_split\n",
    "\n",
    "\n",
    "#X1_train, X1_test, Y_train, Y_test = train_test_split(X1, Y, random_state=10)\n",
    "\n",
    "X1_train, X1_test, X2_train, X2_test, X3_train, X3_test, Y_train, Y_test = train_test_split(X1, X2, X3, Y, random_state=10)"
   ]
  },
  {
   "cell_type": "code",
   "execution_count": 60,
   "metadata": {},
   "outputs": [],
   "source": [
    "#implement KNeighborsRegressor---choose estimator\n",
    "\n",
    "rad = 2\n",
    "\n",
    "\n",
    "from sklearn.neighbors import RadiusNeighborsRegressor\n",
    "estimator = RadiusNeighborsRegressor(rad, weights='distance', p=2)"
   ]
  },
  {
   "cell_type": "code",
   "execution_count": 64,
   "metadata": {},
   "outputs": [
    {
     "name": "stdout",
     "output_type": "stream",
     "text": [
      "The accuracy is 0.0%\n"
     ]
    }
   ],
   "source": [
    "#train data\n",
    "\n",
    "#X2_train, X3_train,\n",
    "\n",
    "import numpy as np\n",
    "import matplotlib.pyplot as plt\n",
    "\n",
    "estimator.fit(X1_train,  Y_train)\n",
    "y_predicted = estimator.predict(X1_test)\n",
    "\n",
    "#test the accuracy\n",
    "accuracy = np.mean(Y_test == y_predicted) *100\n",
    "print(\"The accuracy is {0:.1f}%\".format(accuracy))\n",
    "\n"
   ]
  },
  {
   "cell_type": "code",
   "execution_count": 65,
   "metadata": {},
   "outputs": [
    {
     "data": {
      "image/png": "[encoded data removed]",
      "text/plain": [
       "<matplotlib.figure.Figure at 0x28e5477af60>"
      ]
     },
     "metadata": {},
     "output_type": "display_data"
    },
    {
     "data": {
      "image/png": "[encoded data removed]",
      "text/plain": [
       "<matplotlib.figure.Figure at 0x28e5459d320>"
      ]
     },
     "metadata": {},
     "output_type": "display_data"
    }
   ],
   "source": [
    "#Test the model\n",
    "\n",
    "plt.plot(X1_train, Y_train)\n",
    "plt.show()\n",
    "plt.plot(X1_test, y_predicted)\n",
    "plt.show()"
   ]
  },
  {
   "cell_type": "code",
   "execution_count": null,
   "metadata": {},
   "outputs": [],
   "source": []
  }
 ],
 "metadata": {
  "kernelspec": {
   "display_name": "Python 3",
   "language": "python",
   "name": "python3"
  },
  "language_info": {
   "codemirror_mode": {
    "name": "ipython",
    "version": 3
   },
   "file_extension": ".py",
   "mimetype": "text/x-python",
   "name": "python",
   "nbconvert_exporter": "python",
   "pygments_lexer": "ipython3",
   "version": "3.6.3"
  }
 },
 "nbformat": 4,
 "nbformat_minor": 2
}
