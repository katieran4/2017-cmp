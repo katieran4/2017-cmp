{
 "cells": [
  {
   "cell_type": "code",
   "execution_count": 3,
   "metadata": {},
   "outputs": [
    {
     "name": "stdout",
     "output_type": "stream",
     "text": [
      "[[  1.42300000e+01   1.71000000e+00   2.43000000e+00 ...,   1.04000000e+00\n",
      "    3.92000000e+00   1.06500000e+03]\n",
      " [  1.32000000e+01   1.78000000e+00   2.14000000e+00 ...,   1.05000000e+00\n",
      "    3.40000000e+00   1.05000000e+03]\n",
      " [  1.31600000e+01   2.36000000e+00   2.67000000e+00 ...,   1.03000000e+00\n",
      "    3.17000000e+00   1.18500000e+03]\n",
      " ..., \n",
      " [  1.32700000e+01   4.28000000e+00   2.26000000e+00 ...,   5.90000000e-01\n",
      "    1.56000000e+00   8.35000000e+02]\n",
      " [  1.31700000e+01   2.59000000e+00   2.37000000e+00 ...,   6.00000000e-01\n",
      "    1.62000000e+00   8.40000000e+02]\n",
      " [  1.41300000e+01   4.10000000e+00   2.74000000e+00 ...,   6.10000000e-01\n",
      "    1.60000000e+00   5.60000000e+02]]\n"
     ]
    }
   ],
   "source": [
    "from sklearn.datasets import load_wine\n",
    "dataset = load_wine()\n",
    "X = dataset.data\n",
    "Y = dataset.target\n"
   ]
  },
  {
   "cell_type": "code",
   "execution_count": 14,
   "metadata": {},
   "outputs": [],
   "source": [
    "from sklearn.cross_validation import train_test_split\n",
    "\n",
    "X_train, X_test, y_train, y_test = train_test_split(X, Y, random_state=10)\n",
    "\n"
   ]
  },
  {
   "cell_type": "code",
   "execution_count": 80,
   "metadata": {},
   "outputs": [
    {
     "name": "stdout",
     "output_type": "stream",
     "text": [
      "The accuracy is 68.9%\n"
     ]
    }
   ],
   "source": [
    "from sklearn.neighbors import KNeighborsClassifier\n",
    "estimator = KNeighborsClassifier()\n",
    "\n",
    "\n",
    "import numpy as np\n",
    "\n",
    "estimator.fit(X_train, y_train)\n",
    "y_predicted = estimator.predict(X_test)\n",
    "\n",
    "#test the accuracy\n",
    "accuracy = np.mean(y_test == y_predicted) *100\n",
    "print(\"The accuracy is {0:.1f}%\".format(accuracy))\n"
   ]
  },
  {
   "cell_type": "code",
   "execution_count": 81,
   "metadata": {},
   "outputs": [
    {
     "name": "stdout",
     "output_type": "stream",
     "text": [
      "The accuracy is 64.4%\n"
     ]
    }
   ],
   "source": [
    "from sklearn.neighbors import KNeighborsClassifier\n",
    "estimator = KNeighborsClassifier(10)\n",
    "\n",
    "\n",
    "\n",
    "import numpy as np\n",
    "\n",
    "estimator.fit(X_train, y_train)\n",
    "y_predicted = estimator.predict(X_test)\n",
    "\n",
    "#test the accuracy\n",
    "accuracy = np.mean(y_test == y_predicted) *100\n",
    "print(\"The accuracy is {0:.1f}%\".format(accuracy))"
   ]
  },
  {
   "cell_type": "code",
   "execution_count": 82,
   "metadata": {},
   "outputs": [
    {
     "name": "stdout",
     "output_type": "stream",
     "text": [
      "The accuracy is 66.7%\n"
     ]
    }
   ],
   "source": [
    "from sklearn.neighbors import KNeighborsClassifier\n",
    "estimator = KNeighborsClassifier(1 )\n",
    "\n",
    "\n",
    "\n",
    "import numpy as np\n",
    "\n",
    "estimator.fit(X_train, y_train)\n",
    "y_predicted = estimator.predict(X_test)\n",
    "\n",
    "#test the accuracy\n",
    "accuracy = np.mean(y_test == y_predicted) *100\n",
    "print(\"The accuracy is {0:.1f}%\".format(accuracy))"
   ]
  },
  {
   "cell_type": "code",
   "execution_count": 83,
   "metadata": {},
   "outputs": [
    {
     "name": "stdout",
     "output_type": "stream",
     "text": [
      "The accuracy is 66.7%\n"
     ]
    }
   ],
   "source": [
    "from sklearn.neighbors import KNeighborsClassifier\n",
    "estimator = KNeighborsClassifier(2, 'distance')\n",
    "\n",
    "\n",
    "\n",
    "import numpy as np\n",
    "\n",
    "estimator.fit(X_train, y_train)\n",
    "y_predicted = estimator.predict(X_test)\n",
    "\n",
    "#test the accuracy\n",
    "accuracy = np.mean(y_test == y_predicted) *100\n",
    "print(\"The accuracy is {0:.1f}%\".format(accuracy))"
   ]
  },
  {
   "cell_type": "code",
   "execution_count": 84,
   "metadata": {},
   "outputs": [
    {
     "name": "stdout",
     "output_type": "stream",
     "text": [
      "The accuracy is 57.8%\n"
     ]
    }
   ],
   "source": [
    "from sklearn.neighbors import KNeighborsClassifier\n",
    "estimator = KNeighborsClassifier(2, 'uniform' , 'kd_tree')\n",
    "\n",
    "\n",
    "\n",
    "import numpy as np\n",
    "\n",
    "estimator.fit(X_train, y_train)\n",
    "y_predicted = estimator.predict(X_test)\n",
    "\n",
    "#test the accuracy\n",
    "accuracy = np.mean(y_test == y_predicted) *100\n",
    "print(\"The accuracy is {0:.1f}%\".format(accuracy))"
   ]
  },
  {
   "cell_type": "code",
   "execution_count": 85,
   "metadata": {},
   "outputs": [
    {
     "name": "stdout",
     "output_type": "stream",
     "text": [
      "The accuracy is 66.7%\n"
     ]
    }
   ],
   "source": [
    "from sklearn.neighbors import KNeighborsClassifier\n",
    "estimator = KNeighborsClassifier(2, 'distance' , 'kd_tree')\n",
    "\n",
    "\n",
    "\n",
    "import numpy as np\n",
    "\n",
    "estimator.fit(X_train, y_train)\n",
    "y_predicted = estimator.predict(X_test)\n",
    "\n",
    "#test the accuracy\n",
    "accuracy = np.mean(y_test == y_predicted) *100\n",
    "print(\"The accuracy is {0:.1f}%\".format(accuracy))"
   ]
  },
  {
   "cell_type": "code",
   "execution_count": 86,
   "metadata": {},
   "outputs": [
    {
     "name": "stdout",
     "output_type": "stream",
     "text": [
      "The accuracy is 66.7%\n"
     ]
    }
   ],
   "source": [
    "from sklearn.neighbors import KNeighborsClassifier\n",
    "estimator = KNeighborsClassifier(2, 'distance' , 'ball_tree' )\n",
    "\n",
    "\n",
    "\n",
    "import numpy as np\n",
    "\n",
    "estimator.fit(X_train, y_train)\n",
    "y_predicted = estimator.predict(X_test)\n",
    "\n",
    "#test the accuracy\n",
    "accuracy = np.mean(y_test == y_predicted) *100\n",
    "print(\"The accuracy is {0:.1f}%\".format(accuracy))"
   ]
  },
  {
   "cell_type": "code",
   "execution_count": 87,
   "metadata": {},
   "outputs": [
    {
     "name": "stdout",
     "output_type": "stream",
     "text": [
      "The accuracy is 66.7%\n"
     ]
    }
   ],
   "source": [
    "from sklearn.neighbors import KNeighborsClassifier\n",
    "estimator = KNeighborsClassifier(2, 'distance' , 'kd_tree', 40 )\n",
    "\n",
    "\n",
    "\n",
    "import numpy as np\n",
    "\n",
    "estimator.fit(X_train, y_train)\n",
    "y_predicted = estimator.predict(X_test)\n",
    "\n",
    "#test the accuracy\n",
    "accuracy = np.mean(y_test == y_predicted) *100\n",
    "print(\"The accuracy is {0:.1f}%\".format(accuracy))"
   ]
  },
  {
   "cell_type": "code",
   "execution_count": 88,
   "metadata": {},
   "outputs": [
    {
     "name": "stdout",
     "output_type": "stream",
     "text": [
      "The accuracy is 66.7%\n"
     ]
    }
   ],
   "source": [
    "from sklearn.neighbors import KNeighborsClassifier\n",
    "estimator = KNeighborsClassifier(2, 'distance' , 'kd_tree', 3000 )\n",
    "\n",
    "\n",
    "\n",
    "import numpy as np\n",
    "\n",
    "estimator.fit(X_train, y_train)\n",
    "y_predicted = estimator.predict(X_test)\n",
    "\n",
    "#test the accuracy\n",
    "accuracy = np.mean(y_test == y_predicted) *100\n",
    "print(\"The accuracy is {0:.1f}%\".format(accuracy))"
   ]
  },
  {
   "cell_type": "code",
   "execution_count": 89,
   "metadata": {},
   "outputs": [
    {
     "name": "stdout",
     "output_type": "stream",
     "text": [
      "The accuracy is 80.0%\n"
     ]
    }
   ],
   "source": [
    "from sklearn.neighbors import KNeighborsClassifier\n",
    "estimator = KNeighborsClassifier(2, 'distance' , 'kd_tree', 300, 1 )\n",
    "\n",
    "\n",
    "\n",
    "import numpy as np\n",
    "\n",
    "estimator.fit(X_train, y_train)\n",
    "y_predicted = estimator.predict(X_test)\n",
    "\n",
    "#test the accuracy\n",
    "accuracy = np.mean(y_test == y_predicted) *100\n",
    "print(\"The accuracy is {0:.1f}%\".format(accuracy))"
   ]
  },
  {
   "cell_type": "code",
   "execution_count": 90,
   "metadata": {},
   "outputs": [
    {
     "name": "stdout",
     "output_type": "stream",
     "text": [
      "The accuracy is 68.9%\n"
     ]
    }
   ],
   "source": [
    "from sklearn.neighbors import KNeighborsClassifier\n",
    "estimator = KNeighborsClassifier(2, 'uniform' , 'kd_tree', 300, 1 )\n",
    "\n",
    "\n",
    "\n",
    "import numpy as np\n",
    "\n",
    "estimator.fit(X_train, y_train)\n",
    "y_predicted = estimator.predict(X_test)\n",
    "\n",
    "#test the accuracy\n",
    "accuracy = np.mean(y_test == y_predicted) *100\n",
    "print(\"The accuracy is {0:.1f}%\".format(accuracy))"
   ]
  },
  {
   "cell_type": "code",
   "execution_count": 148,
   "metadata": {},
   "outputs": [
    {
     "name": "stdout",
     "output_type": "stream",
     "text": [
      "The accuracy is 68.9%\n"
     ]
    }
   ],
   "source": [
    "from sklearn.neighbors import KNeighborsClassifier\n",
    "estimator = KNeighborsClassifier(2, 'uniform' , 'kd_tree', 3, p=1 )\n",
    "\n",
    "\n",
    "\n",
    "import numpy as np\n",
    "\n",
    "estimator.fit(X_train, y_train)\n",
    "y_predicted = estimator.predict(X_test)\n",
    "\n",
    "#test the accuracy\n",
    "accuracy = np.mean(y_test == y_predicted) *100\n",
    "print(\"The accuracy is {0:.1f}%\".format(accuracy))"
   ]
  },
  {
   "cell_type": "code",
   "execution_count": 92,
   "metadata": {},
   "outputs": [
    {
     "name": "stdout",
     "output_type": "stream",
     "text": [
      "The accuracy is 75.6%\n"
     ]
    }
   ],
   "source": [
    "from sklearn.neighbors import KNeighborsClassifier\n",
    "estimator = KNeighborsClassifier(3, 'distance' , 'kd_tree', 40, 1 )\n",
    "\n",
    "\n",
    "\n",
    "import numpy as np\n",
    "\n",
    "estimator.fit(X_train, y_train)\n",
    "y_predicted = estimator.predict(X_test)\n",
    "\n",
    "#test the accuracy\n",
    "accuracy = np.mean(y_test == y_predicted) *100\n",
    "print(\"The accuracy is {0:.1f}%\".format(accuracy))"
   ]
  },
  {
   "cell_type": "code",
   "execution_count": 153,
   "metadata": {},
   "outputs": [
    {
     "name": "stdout",
     "output_type": "stream",
     "text": [
      "The accuracy is 80.0%\n"
     ]
    }
   ],
   "source": [
    "'''OPTIMIZED PARAMETERS FOR USE IN LOOP!'''\n",
    "\n",
    "\n",
    "\n",
    "\n",
    "from sklearn.neighbors import KNeighborsClassifier\n",
    "estimator = KNeighborsClassifier(2, 'distance' , 'kd_tree', 300, p=1 )\n",
    "\n",
    "\n",
    "\n",
    "import numpy as np\n",
    "\n",
    "estimator.fit(X_train, y_train)\n",
    "y_predicted = estimator.predict(X_test)\n",
    "\n",
    "#test the accuracy\n",
    "accuracy = np.mean(y_test == y_predicted) *100\n",
    "print(\"The accuracy is {0:.1f}%\".format(accuracy))"
   ]
  },
  {
   "cell_type": "code",
   "execution_count": 94,
   "metadata": {},
   "outputs": [
    {
     "name": "stdout",
     "output_type": "stream",
     "text": [
      "The accuracy is 78.2%\n"
     ]
    }
   ],
   "source": [
    "from sklearn.cross_validation import cross_val_score\n",
    "scores = cross_val_score(estimator, X, Y, scoring = 'accuracy')\n",
    "average_accuracy = np.mean(scores)*100\n",
    "print(\"The accuracy is {0:.1f}%\".format(average_accuracy))"
   ]
  },
  {
   "cell_type": "code",
   "execution_count": 111,
   "metadata": {},
   "outputs": [
    {
     "name": "stdout",
     "output_type": "stream",
     "text": [
      "[0.7818007662835248, 0.7818007662835248, 0.7818007662835248, 0.7818007662835248, 0.7818007662835248, 0.7818007662835248, 0.7818007662835248, 0.7818007662835248, 0.7818007662835248, 0.7818007662835248, 0.7818007662835248, 0.7818007662835248, 0.7818007662835248, 0.7818007662835248, 0.7818007662835248, 0.7818007662835248, 0.7818007662835248, 0.7818007662835248, 0.7818007662835248]\n"
     ]
    }
   ],
   "source": [
    "accu_values = []\n",
    "all_scores = []\n",
    "parameters = list(range(1,20))\n",
    "for n_neighbors in parameters:\n",
    "    estimator = KNeighborsClassifier(2, 'distance' , 'kd_tree', 300, 1 )\n",
    "    scores = cross_val_score(estimator, X, Y, scoring = 'accuracy')\n",
    "    accu_values.append(np.mean(scores))\n",
    "    all_scores.append(scores)\n",
    "    \n",
    "print(accu_values)"
   ]
  },
  {
   "cell_type": "code",
   "execution_count": 119,
   "metadata": {},
   "outputs": [
    {
     "data": {
      "image/png": "[encoded data removed]",
      "text/plain": [
       "<matplotlib.figure.Figure at 0x85e4190>"
      ]
     },
     "metadata": {},
     "output_type": "display_data"
    }
   ],
   "source": [
    "import matplotlib.pyplot as plt\n",
    "plt.plot(parameters, accu_values, '-*', color='RED')\n",
    "plt.title('INCORRECT GRAPH!!', color='red')\n",
    "#plt.title('Accuracy of KNeighbors Algorithm for Wine Dataset')\n",
    "plt.xlabel('N-Neighbour')\n",
    "plt.ylabel('Accuracy')\n",
    "plt.ylim([0.5,1.0])\n",
    "\n",
    "plt.show()\n",
    "\n",
    "'''the graph made by this calculation is incorrect because it attempts to plot a varying number of neighbors \n",
    "on the x-axis, yet the loop keeps a constant number of neighbors.\n",
    "so there should only by one point on the x-axis\n",
    "see fix in next box'''"
   ]
  },
  {
   "cell_type": "code",
   "execution_count": 146,
   "metadata": {},
   "outputs": [
    {
     "name": "stdout",
     "output_type": "stream",
     "text": [
      "[0.7818007662835248, 0.7818007662835248, 0.74827586206896546, 0.72068965517241368, 0.73678160919540225, 0.74827586206896546, 0.7590038314176244, 0.72567049808429118, 0.74214559386973189, 0.73103448275862071, 0.72547892720306517, 0.73678160919540225, 0.74789272030651333, 0.74827586206896546, 0.75363984674329487, 0.73160919540229885, 0.73141762452107273, 0.71455938697318011, 0.73122605363984672, 0.73103448275862071, 0.72567049808429118, 0.72011494252873565, 0.72011494252873565, 0.72011494252873565, 0.71455938697318011, 0.70900383141762457, 0.72011494252873565, 0.72567049808429118, 0.72586206896551719, 0.72011494252873565, 0.72586206896551719, 0.71455938697318011, 0.72586206896551719, 0.72586206896551719, 0.72605363984674332, 0.73160919540229885, 0.73716475095785439, 0.73141762452107273, 0.73716475095785439, 0.72586206896551719, 0.73160919540229885, 0.72605363984674332, 0.73160919540229885, 0.73141762452107273, 0.72586206896551719, 0.72030651340996166, 0.74272030651340992, 0.74272030651340992, 0.73716475095785439, 0.73716475095785439, 0.73716475095785439, 0.73141762452107273, 0.73716475095785439]\n"
     ]
    },
    {
     "data": {
      "text/plain": [
       "'this fixes the above problem by using n_neighbors in the argument of the classifier\\nthis means that this is the parameter being iterated across in the range 1-118'"
      ]
     },
     "execution_count": 146,
     "metadata": {},
     "output_type": "execute_result"
    }
   ],
   "source": [
    "accu_values = []\n",
    "all_scores = []\n",
    "parameters = list(range(1,54))\n",
    "\n",
    "for n_neighbors in parameters:\n",
    "    estimator = KNeighborsClassifier(n_neighbors, 'distance' , 'kd_tree', 300, 1 )\n",
    "    scores = cross_val_score(estimator, X, Y, scoring = 'accuracy')\n",
    "    accu_values.append(np.mean(scores))\n",
    "    all_scores.append(scores)\n",
    "    \n",
    "print(accu_values)\n",
    "\n",
    "'''this fixes the above problem by using n_neighbors in the argument of the classifier\n",
    "this means that this is the parameter being iterated across in the range 1-118'''\n",
    "\n"
   ]
  },
  {
   "cell_type": "code",
   "execution_count": 147,
   "metadata": {},
   "outputs": [
    {
     "data": {
      "image/png": "[encoded data removed]",
      "text/plain": [
       "<matplotlib.figure.Figure at 0x810c470>"
      ]
     },
     "metadata": {},
     "output_type": "display_data"
    }
   ],
   "source": [
    "import matplotlib.pyplot as plt\n",
    "plt.plot(parameters, accu_values, '-*', color='green')\n",
    "plt.title('Accuracy of KNeighbors Algorithm for Wine Dataset Across Varying Number of Neighbors')\n",
    "plt.xlabel('N-Neighbour')\n",
    "plt.ylabel('Accuracy')\n",
    "plt.ylim([0.7, 0.8])\n",
    "\n",
    "plt.show()"
   ]
  },
  {
   "cell_type": "code",
   "execution_count": 136,
   "metadata": {},
   "outputs": [
    {
     "name": "stdout",
     "output_type": "stream",
     "text": [
      "[0.7818007662835248, 0.71992337164750964, 0.69770114942528727, 0.69214559386973173, 0.69214559386973173, 0.69214559386973173, 0.69214559386973173, 0.69770114942528727, 0.69770114942528727, 0.69770114942528727, 0.69770114942528727, 0.69770114942528727, 0.69770114942528727, 0.69770114942528727, 0.69770114942528727, 0.69770114942528727, 0.69770114942528727, 0.69770114942528727, 0.69770114942528727, 0.69770114942528727, 0.69770114942528727, 0.69770114942528727, 0.69770114942528727, 0.69770114942528727, 0.69770114942528727, 0.69770114942528727, 0.69770114942528727, 0.69770114942528727, 0.69770114942528727, 0.69770114942528727, 0.69770114942528727, 0.69770114942528727, 0.69770114942528727, 0.69770114942528727, 0.69770114942528727, 0.69770114942528727, 0.69770114942528727, 0.69770114942528727, 0.69770114942528727, 0.69770114942528727, 0.69770114942528727, 0.69770114942528727, 0.69770114942528727, 0.69770114942528727, 0.69770114942528727, 0.69770114942528727, 0.69770114942528727, 0.69770114942528727, 0.69770114942528727, 0.69770114942528727, 0.69770114942528727, 0.69770114942528727, 0.69770114942528727, 0.69770114942528727, 0.69770114942528727, 0.69770114942528727, 0.69770114942528727, 0.69770114942528727, 0.69770114942528727, 0.69770114942528727, 0.69770114942528727, 0.69770114942528727, 0.69770114942528727, 0.69770114942528727, 0.69770114942528727, 0.69770114942528727, 0.69770114942528727, 0.69770114942528727, 0.69770114942528727, 0.69770114942528727, 0.69770114942528727, 0.69770114942528727, 0.69770114942528727, 0.69770114942528727, 0.69770114942528727, 0.69770114942528727, 0.69770114942528727, 0.69770114942528727, 0.69770114942528727, 0.68620689655172418, 0.68620689655172418, 0.68620689655172418, 0.68620689655172418, 0.68620689655172418, 0.68620689655172418, 0.68620689655172418, 0.68620689655172418, 0.68620689655172418, 0.68620689655172418, 0.68620689655172418, 0.68620689655172418, 0.68620689655172418, 0.68620689655172418, 0.68620689655172418, 0.68620689655172418, 0.68620689655172418, 0.68620689655172418, 0.68620689655172418, 0.68620689655172418, 0.68620689655172418, 0.68620689655172418, 0.68620689655172418, 0.68620689655172418, 0.68620689655172418, 0.68620689655172418, 0.68620689655172418, 0.68620689655172418, 0.68620689655172418, 0.68620689655172418, 0.68620689655172418, 0.68620689655172418, 0.68620689655172418, 0.68620689655172418, 0.68620689655172418, 0.68620689655172418, 0.68620689655172418, 0.68620689655172418, 0.68620689655172418, 0.68620689655172418, 0.68620689655172418, 0.68620689655172418, 0.68620689655172418, 0.68620689655172418, 0.68620689655172418, 0.68620689655172418, 0.68620689655172418, 0.68620689655172418, 0.68620689655172418, 0.68620689655172418, 0.68620689655172418, 0.68620689655172418, 0.68620689655172418, 0.68620689655172418, 0.68620689655172418, 0.68620689655172418, 0.68620689655172418, 0.68620689655172418, 0.68620689655172418, 0.68620689655172418, 0.68620689655172418, 0.68620689655172418, 0.68620689655172418, 0.68620689655172418, 0.68620689655172418, 0.68620689655172418, 0.68620689655172418, 0.68620689655172418, 0.68620689655172418, 0.68620689655172418, 0.68620689655172418, 0.68620689655172418, 0.68620689655172418, 0.68620689655172418, 0.68620689655172418, 0.68620689655172418, 0.68620689655172418, 0.68620689655172418, 0.68620689655172418, 0.68620689655172418, 0.68620689655172418, 0.68620689655172418, 0.68620689655172418, 0.68620689655172418, 0.68620689655172418, 0.68620689655172418, 0.68620689655172418, 0.68620689655172418, 0.68620689655172418, 0.68620689655172418, 0.68620689655172418, 0.68620689655172418, 0.68620689655172418, 0.68620689655172418, 0.68620689655172418, 0.68620689655172418, 0.68620689655172418, 0.68620689655172418, 0.68620689655172418, 0.68620689655172418, 0.68620689655172418, 0.68620689655172418, 0.68620689655172418, 0.68620689655172418, 0.68620689655172418, 0.68620689655172418, 0.68620689655172418, 0.68620689655172418, 0.68620689655172418, 0.68620689655172418, 0.68620689655172418, 0.68620689655172418, 0.68620689655172418, 0.68620689655172418, 0.68620689655172418, 0.68620689655172418, 0.68620689655172418, 0.68620689655172418, 0.68620689655172418, 0.68620689655172418, 0.68620689655172418, 0.68620689655172418, 0.69176245210727971, 0.69176245210727971, 0.69176245210727971, 0.69176245210727971, 0.69176245210727971, 0.69176245210727971, 0.69176245210727971, 0.69176245210727971, 0.69176245210727971, 0.69731800766283525, 0.69731800766283525, 0.69731800766283525, 0.69731800766283525, 0.69731800766283525, 0.69731800766283525, 0.69731800766283525, 0.69731800766283525, 0.69731800766283525, 0.69731800766283525, 0.69731800766283525, 0.69731800766283525, 0.69731800766283525, 0.69731800766283525, 0.69731800766283525, 0.69731800766283525, 0.69731800766283525, 0.69731800766283525, 0.69731800766283525, 0.69731800766283525, 0.69731800766283525, 0.69731800766283525, 0.69731800766283525, 0.69731800766283525, 0.69731800766283525, 0.69731800766283525, 0.69157088122605359, 0.69157088122605359, 0.69157088122605359, 0.69157088122605359, 0.69157088122605359, 0.69157088122605359, 0.69157088122605359, 0.69157088122605359, 0.69157088122605359, 0.69157088122605359, 0.69157088122605359, 0.69157088122605359, 0.69157088122605359, 0.69157088122605359, 0.69157088122605359, 0.69157088122605359, 0.69157088122605359, 0.69157088122605359, 0.69157088122605359, 0.69157088122605359, 0.69157088122605359, 0.69157088122605359, 0.69157088122605359, 0.69157088122605359, 0.69157088122605359, 0.69157088122605359, 0.69712643678160935, 0.69712643678160935, 0.69712643678160935, 0.69712643678160935, 0.69712643678160935, 0.69712643678160935, 0.68582375478927204, 0.68582375478927204, 0.68582375478927204, 0.68582375478927204, 0.68582375478927204, 0.68582375478927204, 0.68582375478927204, 0.68582375478927204, 0.69137931034482758, 0.69137931034482758, 0.69137931034482758, 0.69137931034482758, 0.69137931034482758, 0.69137931034482758, 0.69137931034482758, 0.69137931034482758, 0.69137931034482758, 0.66302681992337165, 0.66302681992337165, 0.66302681992337165, 0.66302681992337165, 0.66302681992337165, 0.66302681992337165, 0.66302681992337165, 0.66302681992337165, 0.66302681992337165, 0.66302681992337165, 0.66302681992337165, 0.65747126436781611, 0.65747126436781611, 0.65747126436781611, 0.65747126436781611, 0.65747126436781611, 0.65747126436781611, 0.65747126436781611, 0.65747126436781611, 0.65747126436781611, 0.65747126436781611, 0.65747126436781611, 0.65747126436781611, 0.59521072796934871, 0.59521072796934871, 0.59521072796934871, 0.59521072796934871, 0.59521072796934871, 0.59521072796934871, 0.59521072796934871, 0.59521072796934871, 0.59521072796934871, 0.59521072796934871, 0.59521072796934871, 0.59521072796934871, 0.59521072796934871, 0.59521072796934871, 0.59521072796934871, 0.57854406130268199, 0.57854406130268199, 0.57854406130268199, 0.57854406130268199, 0.57854406130268199, 0.57854406130268199, 0.57854406130268199, 0.57854406130268199, 0.57854406130268199, 0.57854406130268199, 0.57854406130268199, 0.57854406130268199, 0.57854406130268199, 0.57854406130268199, 0.57854406130268199, 0.57854406130268199, 0.57854406130268199, 0.57854406130268199, 0.56187739463601538, 0.56187739463601538, 0.56187739463601538, 0.56187739463601538, 0.56187739463601538, 0.56187739463601538, 0.56187739463601538, 0.56187739463601538, 0.56187739463601538, 0.56187739463601538, 0.56187739463601538, 0.56187739463601538, 0.56187739463601538, 0.55632183908045985, 0.55632183908045985, 0.55632183908045985, 0.55632183908045985, 0.55632183908045985, 0.55632183908045985, 0.55632183908045985, 0.55632183908045985, 0.55632183908045985, 0.55632183908045985, 0.5114942528735632, 0.5114942528735632, 0.5114942528735632, 0.5114942528735632, 0.5114942528735632, 0.5114942528735632, 0.5114942528735632, 0.5114942528735632, 0.5114942528735632, 0.5114942528735632, 0.5114942528735632, 0.51704980842911874, 0.51704980842911874, 0.51704980842911874, 0.51704980842911874, 0.51704980842911874, 0.51704980842911874, 0.51704980842911874, 0.51704980842911874, 0.51704980842911874, 0.51704980842911874, 0.51704980842911874, 0.51704980842911874, 0.51704980842911874, 0.51704980842911874, 0.51704980842911874, 0.51704980842911874, 0.51704980842911874, 0.51704980842911874, 0.51704980842911874, 0.51704980842911874, 0.51704980842911874, 0.47758620689655173, 0.47758620689655173, 0.47758620689655173, 0.47758620689655173, 0.47758620689655173, 0.47758620689655173, 0.47758620689655173, 0.47758620689655173, 0.47758620689655173, 0.47758620689655173, 0.47758620689655173, 0.47758620689655173, 0.47758620689655173, 0.47758620689655173, 0.47758620689655173, 0.47758620689655173, 0.47758620689655173, 0.47758620689655173, 0.47758620689655173, 0.47758620689655173, 0.47758620689655173, 0.47758620689655173, 0.47758620689655173, 0.47758620689655173, 0.47758620689655173, 0.47758620689655173, 0.47758620689655173, 0.47758620689655173, 0.47758620689655173, 0.47758620689655173, 0.47758620689655173, 0.47758620689655173, 0.47758620689655173, 0.47758620689655173, 0.47758620689655173, 0.47758620689655173, 0.47758620689655173, 0.47758620689655173, 0.47758620689655173, 0.47758620689655173, 0.47758620689655173, 0.47758620689655173, 0.47758620689655173, 0.47758620689655173, 0.47758620689655173, 0.43256704980842908, 0.43256704980842908, 0.43256704980842908, 0.43256704980842908, 0.43256704980842908, 0.43256704980842908, 0.43256704980842908, 0.43256704980842908, 0.43256704980842908, 0.43256704980842908, 0.43256704980842908, 0.43256704980842908, 0.43256704980842908, 0.43256704980842908, 0.43256704980842908, 0.43256704980842908, 0.43256704980842908, 0.43256704980842908, 0.43256704980842908, 0.43256704980842908, 0.43256704980842908, 0.43256704980842908, 0.43256704980842908, 0.43256704980842908, 0.43256704980842908, 0.43256704980842908, 0.43256704980842908, 0.43256704980842908, 0.43256704980842908, 0.43256704980842908, 0.43256704980842908, 0.43256704980842908, 0.43256704980842908, 0.43256704980842908, 0.43256704980842908, 0.43256704980842908, 0.43256704980842908, 0.43256704980842908, 0.43256704980842908, 0.43256704980842908, 0.43256704980842908, 0.43256704980842908, 0.43256704980842908, 0.43256704980842908, 0.43256704980842908, 0.43256704980842908, 0.43256704980842908, 0.43256704980842908, 0.43256704980842908, 0.43256704980842908, 0.43256704980842908, 0.43256704980842908, 0.43256704980842908, 0.43256704980842908, 0.43256704980842908, 0.43256704980842908, 0.43256704980842908, 0.43256704980842908]\n"
     ]
    }
   ],
   "source": [
    "'''p : integer, optional (default = 2)\n",
    "\n",
    "    Power parameter for the Minkowski metric. When p = 1, this is equivalent to using manhattan_distance (l1), \n",
    "    and euclidean_distance (l2) for p = 2. For arbitrary p, minkowski_distance (l_p) is used.\n",
    "'''\n",
    "\n",
    "\n",
    "accu_values = []\n",
    "all_scores = []\n",
    "parameters = list(range(1,500))\n",
    "\n",
    "for n_P in parameters:\n",
    "    estimator = KNeighborsClassifier(2, 'distance' , 'kd_tree', 300, n_P )\n",
    "    scores = cross_val_score(estimator, X, Y, scoring = 'accuracy')\n",
    "    accu_values.append(np.mean(scores))\n",
    "    all_scores.append(scores)\n",
    "    \n",
    "print(accu_values)"
   ]
  },
  {
   "cell_type": "code",
   "execution_count": 137,
   "metadata": {},
   "outputs": [
    {
     "data": {
      "image/png": "[encoded data removed]",
      "text/plain": [
       "<matplotlib.figure.Figure at 0x7f38190>"
      ]
     },
     "metadata": {},
     "output_type": "display_data"
    }
   ],
   "source": [
    "import matplotlib.pyplot as plt\n",
    "plt.plot(parameters, accu_values, '-*', color='green')\n",
    "plt.title('Accuracy of KNeighbors Algorithm for Wine Dataset Across Power Parameter Values')\n",
    "plt.xlabel('N-P')\n",
    "plt.ylabel('Accuracy')\n",
    "plt.ylim([0.0, 1.0])\n",
    "\n",
    "plt.show()"
   ]
  },
  {
   "cell_type": "code",
   "execution_count": 139,
   "metadata": {},
   "outputs": [],
   "source": [
    "accu_values = []\n",
    "all_scores = []\n",
    "parameters = list(range(1,4000))\n",
    "\n",
    "for leaf in parameters:\n",
    "    estimator = KNeighborsClassifier(2, 'distance' , 'kd_tree',leaf, 1 )\n",
    "    scores = cross_val_score(estimator, X, Y, scoring = 'accuracy')\n",
    "    accu_values.append(np.mean(scores))\n",
    "    all_scores.append(scores)\n",
    "    \n",
    "#print(accu_values)"
   ]
  },
  {
   "cell_type": "code",
   "execution_count": 141,
   "metadata": {},
   "outputs": [
    {
     "data": {
      "image/png": "[encoded data removed]",
      "text/plain": [
       "<matplotlib.figure.Figure at 0x8f918d0>"
      ]
     },
     "metadata": {},
     "output_type": "display_data"
    }
   ],
   "source": [
    "import matplotlib.pyplot as plt\n",
    "plt.plot(parameters, accu_values, '-*', color='green')\n",
    "plt.title('Accuracy of KNeighbors Algorithm for Wine Dataset Across Leaf Size Values 1-4000')\n",
    "plt.xlabel('N-P')\n",
    "plt.ylabel('Accuracy')\n",
    "plt.ylim([0.0, 1.0])\n",
    "\n",
    "plt.show()"
   ]
  },
  {
   "cell_type": "code",
   "execution_count": null,
   "metadata": {
    "collapsed": true
   },
   "outputs": [],
   "source": []
  }
 ],
 "metadata": {
  "kernelspec": {
   "display_name": "Python 3",
   "language": "python",
   "name": "python3"
  },
  "language_info": {
   "codemirror_mode": {
    "name": "ipython",
    "version": 3
   },
   "file_extension": ".py",
   "mimetype": "text/x-python",
   "name": "python",
   "nbconvert_exporter": "python",
   "pygments_lexer": "ipython3",
   "version": "3.6.1"
  }
 },
 "nbformat": 4,
 "nbformat_minor": 2
}
