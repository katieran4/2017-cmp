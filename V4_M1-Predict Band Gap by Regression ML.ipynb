{
 "cells": [
  {
   "cell_type": "code",
   "execution_count": null,
   "metadata": {},
   "outputs": [],
   "source": [
    "'''Objective: Build a model to predict the band gap of a material based on what element it is,\n",
    "            its position in space, and its lattice information, using regression based machine learning'''\n",
    "\n",
    "\n",
    "'''Version goal: to combine two data sets x1 and x3 into a single array X to use in training '''"
   ]
  },
  {
   "cell_type": "code",
   "execution_count": 1,
   "metadata": {},
   "outputs": [
    {
     "name": "stdout",
     "output_type": "stream",
     "text": [
      "1.0032\n"
     ]
    }
   ],
   "source": [
    "#Call data\n",
    "\n",
    "from aflow import *\n",
    "\n",
    "result = search(batch_size=20\n",
    "        ).filter(K.Egap > 1\n",
    "        ).filter(K.nspecies == 1)\n",
    "\n",
    "#part = result[0:1000]\n",
    "\n",
    "#len(part)\n",
    "print(result[0].Egap)\n",
    "#for entry in result[0:5]:\n",
    "    #print(entry.Egap)"
   ]
  },
  {
   "cell_type": "code",
   "execution_count": 26,
   "metadata": {},
   "outputs": [
    {
     "name": "stdout",
     "output_type": "stream",
     "text": [
      "[[34]\n",
      " [ 9]\n",
      " [14]\n",
      " [14]\n",
      " [ 8]\n",
      " [ 8]]\n"
     ]
    }
   ],
   "source": [
    "#make data right type/shape\n",
    "\n",
    "#make X1 from atomic name to atomic number\n",
    "from mendeleev import element\n",
    "import numpy as np\n",
    "\n",
    "at_num = []\n",
    "\n",
    "for i in result[0:6]:\n",
    "    ele = (i.species[0])\n",
    "    z= ele.replace('\\n','')\n",
    "    number= element(z).atomic_number\n",
    "    #print(number)\n",
    "    at_num.append(number)\n",
    "    \n",
    "#print(at_num)\n",
    "\n",
    "x1= np.asarray(at_num).reshape(-1,1)\n",
    "print(x1)"
   ]
  },
  {
   "cell_type": "code",
   "execution_count": 30,
   "metadata": {},
   "outputs": [
    {
     "name": "stdout",
     "output_type": "stream",
     "text": [
      "[[  4.523779   4.523779   5.049212  90.        90.       120.      ]\n",
      " [  3.546542   3.546542   3.910963  90.        90.       120.      ]\n",
      " [ 10.21488   10.21495   10.38431   90.        90.       119.9998  ]\n",
      " [ 10.8115    10.8115    10.8115   109.4712   109.4712   109.4712  ]\n",
      " [  6.934511   7.59636    7.826332  89.9968    90.        90.      ]\n",
      " [  5.171968   5.171968   7.033757  90.        90.       136.9788  ]]\n"
     ]
    }
   ],
   "source": [
    "#X3 array\n",
    "\n",
    "geo=[]\n",
    "\n",
    "for entry in result[0:6]:\n",
    "    #x2= entry.positions_fractional\n",
    "    #X2.append(x2)\n",
    "    \n",
    "    x3= entry.geometry\n",
    "    #print(X3)\n",
    "    geo.append(x3)\n",
    "    \n",
    "#print(geo)\n",
    "\n",
    "\n",
    "x3=np.asarray(geo).reshape(6,6)\n",
    "\n",
    "print(x3)\n",
    "\n"
   ]
  },
  {
   "cell_type": "code",
   "execution_count": 59,
   "metadata": {},
   "outputs": [
    {
     "name": "stdout",
     "output_type": "stream",
     "text": [
      "[[1.0032]\n",
      " [1.0066]\n",
      " [1.1182]\n",
      " [1.1937]\n",
      " [1.1997]\n",
      " [1.2933]]\n"
     ]
    }
   ],
   "source": [
    "y=[]\n",
    "for entry in result[0:6]:\n",
    "    BG= entry.Egap\n",
    "    y.append(BG)\n",
    "    \n",
    "Y=np.asarray(y).reshape(-1,1)\n",
    "\n",
    "print(Y)"
   ]
  },
  {
   "cell_type": "code",
   "execution_count": 52,
   "metadata": {},
   "outputs": [
    {
     "data": {
      "text/plain": [
       "(6, 7)"
      ]
     },
     "execution_count": 52,
     "metadata": {},
     "output_type": "execute_result"
    }
   ],
   "source": [
    "'''goal: to combine the two data sets x1 & x3 into a single array X'''\n",
    "\n",
    "#X= np.empty([6,7])\n",
    "\n",
    "\n",
    "X= np.hstack((x3,x1))\n",
    "\n",
    "\n",
    "X.shape"
   ]
  },
  {
   "cell_type": "code",
   "execution_count": 61,
   "metadata": {},
   "outputs": [],
   "source": [
    "#Split the data\n",
    "\n",
    "from sklearn.cross_validation import train_test_split\n",
    "\n",
    "\n",
    "X_train, X_test, Y_train, Y_test = train_test_split(X, Y, random_state=10)"
   ]
  },
  {
   "cell_type": "code",
   "execution_count": 63,
   "metadata": {},
   "outputs": [],
   "source": [
    "#implement KNeighborsRegressor---choose estimator\n",
    "\n",
    "from sklearn.neighbors import RadiusNeighborsRegressor\n",
    "estimator = RadiusNeighborsRegressor()"
   ]
  },
  {
   "cell_type": "code",
   "execution_count": 64,
   "metadata": {},
   "outputs": [
    {
     "name": "stdout",
     "output_type": "stream",
     "text": [
      "The accuracy is 0.0%\n"
     ]
    },
    {
     "name": "stderr",
     "output_type": "stream",
     "text": [
      "C:\\Users\\Katie\\Miniconda3\\lib\\site-packages\\numpy\\core\\fromnumeric.py:2957: RuntimeWarning: Mean of empty slice.\n",
      "  out=out, **kwargs)\n",
      "C:\\Users\\Katie\\Miniconda3\\lib\\site-packages\\numpy\\core\\_methods.py:73: RuntimeWarning: invalid value encountered in true_divide\n",
      "  ret, rcount, out=ret, casting='unsafe', subok=False)\n"
     ]
    }
   ],
   "source": [
    "#train data\n",
    "\n",
    "#X2_train, X3_train,\n",
    "\n",
    "import numpy as np\n",
    "import matplotlib.pyplot as plt\n",
    "\n",
    "estimator.fit(X_train,  Y_train)\n",
    "y_predicted = estimator.predict(X_test)\n",
    "\n",
    "#test the accuracy\n",
    "accuracy = np.mean(Y_test == y_predicted) *100\n",
    "print(\"The accuracy is {0:.1f}%\".format(accuracy))\n",
    "\n"
   ]
  },
  {
   "cell_type": "code",
   "execution_count": 66,
   "metadata": {},
   "outputs": [
    {
     "data": {
      "image/png": "[encoded data removed]",
      "text/plain": [
       "<matplotlib.figure.Figure at 0x1d06ca26278>"
      ]
     },
     "metadata": {},
     "output_type": "display_data"
    },
    {
     "data": {
      "image/png": "[encoded data removed]",
      "text/plain": [
       "<matplotlib.figure.Figure at 0x1d06ca78550>"
      ]
     },
     "metadata": {},
     "output_type": "display_data"
    }
   ],
   "source": [
    "plt.plot(X_train, Y_train)\n",
    "plt.show()\n",
    "plt.plot(X_test, y_predicted)\n",
    "plt.show()"
   ]
  },
  {
   "cell_type": "code",
   "execution_count": null,
   "metadata": {},
   "outputs": [],
   "source": []
  }
 ],
 "metadata": {
  "kernelspec": {
   "display_name": "Python 3",
   "language": "python",
   "name": "python3"
  },
  "language_info": {
   "codemirror_mode": {
    "name": "ipython",
    "version": 3
   },
   "file_extension": ".py",
   "mimetype": "text/x-python",
   "name": "python",
   "nbconvert_exporter": "python",
   "pygments_lexer": "ipython3",
   "version": "3.6.3"
  }
 },
 "nbformat": 4,
 "nbformat_minor": 2
}
