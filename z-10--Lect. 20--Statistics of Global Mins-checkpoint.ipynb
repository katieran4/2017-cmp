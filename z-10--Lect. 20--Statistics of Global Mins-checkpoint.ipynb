{
 "cells": [
  {
   "cell_type": "code",
   "execution_count": 1,
   "metadata": {
    "collapsed": true
   },
   "outputs": [],
   "source": [
    "import numpy as np\n",
    "\n",
    "def LJ(r):\n",
    "    r6 = r**6\n",
    "    r12 = r6*r6\n",
    "    return 4*(1/r12 - 1/r6)\n",
    "\n",
    "def total_energy(positions):\n",
    "    E = 0\n",
    "    N_atom = int(len(positions)/3)\n",
    "\n",
    "    #positions = [x0, y0, z0, x1, y1, z1, .....  , xn, yn, zn]\n",
    "    for i in range(N_atom-1):\n",
    "        for j in range(i+1, N_atom):\n",
    "            pos1 = positions[i*3:(i+1)*3]\n",
    "            pos2 = positions[j*3:(j+1)*3]\n",
    "            #print('pos1:  ', pos1)\n",
    "            #print('pos2:  ', pos2)\n",
    "            dist = np.linalg.norm(pos1-pos2)\n",
    "            #print(i,j, dist)\n",
    "            E += LJ(dist)\n",
    "    return E\n",
    "            \n",
    "def init_pos(N, L=5):\n",
    "    return L*np.random.random_sample((N*3,))\n"
   ]
  },
  {
   "cell_type": "code",
   "execution_count": 8,
   "metadata": {},
   "outputs": [
    {
     "data": {
      "text/plain": [
       "-0.081818678586482826"
      ]
     },
     "execution_count": 8,
     "metadata": {},
     "output_type": "execute_result"
    }
   ],
   "source": [
    "pos = init_pos(3)\n",
    "total_energy(pos)"
   ]
  },
  {
   "cell_type": "code",
   "execution_count": 38,
   "metadata": {},
   "outputs": [
    {
     "name": "stdout",
     "output_type": "stream",
     "text": [
      "step:  0   values: -9.103852415513183\n",
      "step:  10   values: -9.10385241558979\n",
      "step:  20   values: -9.103852415591843\n",
      "step:  30   values: -1.0010352900868875\n",
      "step:  40   values: -9.103852415632229\n",
      "The global minimum:   -9.10385241570062\n"
     ]
    }
   ],
   "source": [
    "\n",
    "from scipy.optimize import minimize\n",
    "\n",
    "f_values = []\n",
    "x_values = []\n",
    "N_attempts = 50\n",
    "N_atom = 5\n",
    "for i in range(N_attempts):\n",
    "    count = 0\n",
    "    pos = init_pos(N_atom)\n",
    "    res = minimize(total_energy, pos, method='CG', tol=1e-4)\n",
    "    f_values.append(res.fun)\n",
    "    x_values.append(res.x)\n",
    "    if res.fun == -9.103852415651685:\n",
    "        count += 1\n",
    "    if i%10==0:\n",
    "        print('step: ', i, '  values:', res.fun)\n",
    "\n",
    "print('The global minimum:  ', min(f_values))\n",
    "\n"
   ]
  },
  {
   "cell_type": "code",
   "execution_count": 39,
   "metadata": {},
   "outputs": [
    {
     "data": {
      "image/png": "[encoded data removed]",
      "text/plain": [
       "<matplotlib.figure.Figure at 0xade2af0>"
      ]
     },
     "metadata": {},
     "output_type": "display_data"
    },
    {
     "name": "stdout",
     "output_type": "stream",
     "text": [
      "0.8\n"
     ]
    }
   ],
   "source": [
    "import matplotlib.pyplot as plt\n",
    "\n",
    "#Probability of finding global min =  #times global found/ N_attempts\n",
    "\n",
    "\n",
    "plt.title('Distribution of Found Minimums for N_atoms=13, N_attempts=50')\n",
    "plt.hist(f_values, 50)\n",
    "plt.show()\n",
    "\n",
    "Prob_Global = 40/N_attempts\n",
    "print(Prob_Global)\n"
   ]
  },
  {
   "cell_type": "code",
   "execution_count": 29,
   "metadata": {},
   "outputs": [
    {
     "name": "stdout",
     "output_type": "stream",
     "text": [
      "step:  0   values: -39.7058584283704\n",
      "step:  10   values: -38.57105318493362\n",
      "step:  20   values: -38.84968426064943\n",
      "step:  30   values: -37.56739724599447\n",
      "step:  40   values: -37.66087018659201\n",
      "The global minimum:   -41.47197984763944\n"
     ]
    }
   ],
   "source": [
    "from scipy.optimize import minimize\n",
    "\n",
    "f_values = []\n",
    "x_values = []\n",
    "N_attempts = 50\n",
    "N_atom = 13\n",
    "for i in range(N_attempts):\n",
    "    pos = init_pos(N_atom)\n",
    "    res = minimize(total_energy, pos, method='CG', tol=1e-4)\n",
    "    f_values.append(res.fun)\n",
    "    x_values.append(res.x)\n",
    "    if i%10==0:\n",
    "        print('step: ', i, '  values:', res.fun)\n",
    "\n",
    "print('The global minimum:  ', min(f_values))\n"
   ]
  },
  {
   "cell_type": "code",
   "execution_count": 32,
   "metadata": {},
   "outputs": [
    {
     "name": "stdout",
     "output_type": "stream",
     "text": [
      "0.04\n"
     ]
    },
    {
     "data": {
      "image/png": "[encoded data removed]",
      "text/plain": [
       "<matplotlib.figure.Figure at 0xad35430>"
      ]
     },
     "metadata": {},
     "output_type": "display_data"
    }
   ],
   "source": [
    "import matplotlib.pyplot as plt\n",
    "\n",
    "Prob_Global = 2/N_attempts\n",
    "print(Prob_Global)\n",
    "\n",
    "plt.title('Distribution of Found Minimums for N_atoms=13, N_attempts=50')\n",
    "plt.hist(f_values, 50)\n",
    "plt.show()"
   ]
  },
  {
   "cell_type": "code",
   "execution_count": 33,
   "metadata": {},
   "outputs": [
    {
     "name": "stdout",
     "output_type": "stream",
     "text": [
      "step:  0   values: -62.536649085241606\n",
      "step:  10   values: -44.908073889014545\n",
      "step:  20   values: -61.75591514033516\n",
      "step:  30   values: -64.86154869977545\n",
      "step:  40   values: -60.5784722890345\n",
      "The global minimum:   -66.28456812552432\n"
     ]
    }
   ],
   "source": [
    "from scipy.optimize import minimize\n",
    "\n",
    "f_values = []\n",
    "x_values = []\n",
    "N_attempts = 50\n",
    "N_atom = 18\n",
    "for i in range(N_attempts):\n",
    "    pos = init_pos(N_atom)\n",
    "    res = minimize(total_energy, pos, method='CG', tol=1e-4)\n",
    "    f_values.append(res.fun)\n",
    "    x_values.append(res.x)\n",
    "    if i%10==0:\n",
    "        print('step: ', i, '  values:', res.fun)\n",
    "\n",
    "print('The global minimum:  ', min(f_values))"
   ]
  },
  {
   "cell_type": "code",
   "execution_count": 34,
   "metadata": {},
   "outputs": [
    {
     "data": {
      "image/png": "[encoded data removed]",
      "text/plain": [
       "<matplotlib.figure.Figure at 0xacc6170>"
      ]
     },
     "metadata": {},
     "output_type": "display_data"
    }
   ],
   "source": [
    "import matplotlib.pyplot as plt\n",
    "\n",
    "plt.title('Distribution of Found Minimums for N_atoms=18, N_attempts=50')\n",
    "plt.hist(f_values, 50)\n",
    "plt.show()"
   ]
  },
  {
   "cell_type": "code",
   "execution_count": 35,
   "metadata": {},
   "outputs": [
    {
     "name": "stdout",
     "output_type": "stream",
     "text": [
      "step:  0   values: -62.283971238699735\n",
      "step:  10   values: -70.22313506729687\n",
      "step:  20   values: -54.278247784846954\n",
      "step:  30   values: -69.078941362829\n",
      "step:  40   values: -52.32262873078548\n",
      "The global minimum:   -70.72565973338982\n"
     ]
    }
   ],
   "source": [
    "from scipy.optimize import minimize\n",
    "\n",
    "f_values = []\n",
    "x_values = []\n",
    "N_attempts = 50\n",
    "N_atom = 19\n",
    "for i in range(N_attempts):\n",
    "    pos = init_pos(N_atom)\n",
    "    res = minimize(total_energy, pos, method='CG', tol=1e-4)\n",
    "    f_values.append(res.fun)\n",
    "    x_values.append(res.x)\n",
    "    if i%10==0:\n",
    "        print('step: ', i, '  values:', res.fun)\n",
    "\n",
    "print('The global minimum:  ', min(f_values))"
   ]
  },
  {
   "cell_type": "code",
   "execution_count": 36,
   "metadata": {},
   "outputs": [
    {
     "data": {
      "image/png": "[encoded data removed]",
      "text/plain": [
       "<matplotlib.figure.Figure at 0x998e0b0>"
      ]
     },
     "metadata": {},
     "output_type": "display_data"
    }
   ],
   "source": [
    "import matplotlib.pyplot as plt\n",
    "\n",
    "plt.title('Distribution of Found Minimums for N_atoms=19, N_attempts=50')\n",
    "plt.hist(f_values, 50)\n",
    "plt.show()"
   ]
  },
  {
   "cell_type": "code",
   "execution_count": null,
   "metadata": {
    "collapsed": true
   },
   "outputs": [],
   "source": []
  },
  {
   "cell_type": "code",
   "execution_count": null,
   "metadata": {
    "collapsed": true
   },
   "outputs": [],
   "source": [
    "import numpy as np\n",
    "from scipy.spatial.distance import cdist\n",
    "\n",
    "def LJ(r):\n",
    "    r6 = r**6\n",
    "    r12 = r6*r6\n",
    "    return 4*(1/r12 - 1/r6)\n",
    "\n",
    "def total_energy(positions):\n",
    "    \"\"\"\n",
    "    Calculate the total energy\n",
    "    input:\n",
    "    positions: 3*N array which represents the atomic positions\n",
    "    output\n",
    "    E: the total energy\n",
    "    \"\"\"\n",
    "    E = 0\n",
    "    N_atom = int(len(positions)/3)\n",
    "\n",
    "    #replace for loops with arrays\n",
    "    pos1= np.array([[x0], [y0], [z0]])\n",
    "    \n",
    "    pos2= np.array([[x1], [y1], [z1]])\n",
    "    \n",
    "    dist= cdist(pos1, pos2)\n",
    "    \n",
    "    E += LJ(dist)\n",
    "    return E\n",
    "\n",
    "def init_pos(xmin=0, xmax=1, ymin=0, ymax=1, zmin=0, zmax=1): #random value\n",
    "    x0= xmin+np.random.random()*(xmax-xmin)\n",
    "    x1= xmin+np.random.random()*(xmax-xmin)\n",
    "    x2= xmin+np.random.random()*(xmax-xmin)\n",
    "    \n",
    "    y0= ymin+np.random.random()*(ymax-ymin)\n",
    "    y1= ymin+np.random.random()*(ymax-ymin)\n",
    "    y2= ymin+np.random.random()*(ymax-ymin)\n",
    "    \n",
    "    z0= zmin+np.random.random()*(zmax-zmin)\n",
    "    z1= zmin+np.random.random()*(zmax-zmin)\n",
    "    z2= zmin+np.random.random()*(zmax-zmin)\n",
    "    \n",
    "    return [x0, y0, z0, x1, y1, z1, x2, y2, z2]\n",
    "    \n",
    "    #positions = [x0, y0, z0, x1, y1, z1, .....  , xn, yn, zn]\n",
    "    #for i in range(N_atom-1):\n",
    "        #for j in range(i+1, N_atom):\n",
    "            #pos1 = positions[i*3:(i+1)*3]\n",
    "            #pos2 = positions[j*3:(j+1)*3]\n",
    "            #print('pos1:  ', pos1)\n",
    "            #print('pos2:  ', pos2)\n",
    "            #dist = np.linalg.norm(pos1-pos2)\n",
    "            #print(i,j, dist)\n",
    "            #E += LJ(dist)\n",
    "    #return E\n",
    "            \n",
    "#def init_pos(N, L=5):\n",
    "    #return L*np.random.random_sample((N*3,))"
   ]
  },
  {
   "cell_type": "code",
   "execution_count": null,
   "metadata": {
    "collapsed": true
   },
   "outputs": [],
   "source": [
    "import numpy as np\n",
    "from scipy.spatial.distance import cdist\n",
    "\n",
    "def LJ(r):\n",
    "    r6 = r**6\n",
    "    r12 = r6*r6\n",
    "    return 4*(1/r12 - 1/r6)\n",
    "\n",
    "def total_energy(positions):\n",
    "    \"\"\"\n",
    "    Calculate the total energy\n",
    "    input:\n",
    "    positions: 3*N array which represents the atomic positions\n",
    "    output\n",
    "    E: the total energy\n",
    "    \"\"\"\n",
    "    E = 0\n",
    "    N_atom = int(len(positions)/3)\n",
    "\n",
    "    #replace for loops with arrays\n",
    "    pos1= np.random.random((N,N))    \n",
    "    \n",
    "    pos2= np.random.random((N,N))\n",
    "    \n",
    "    dist= cdist(pos1, pos2)\n",
    "    \n",
    "    E += LJ(dist)\n",
    "    return E"
   ]
  }
 ],
 "metadata": {
  "kernelspec": {
   "display_name": "Python 3",
   "language": "python",
   "name": "python3"
  },
  "language_info": {
   "codemirror_mode": {
    "name": "ipython",
    "version": 3
   },
   "file_extension": ".py",
   "mimetype": "text/x-python",
   "name": "python",
   "nbconvert_exporter": "python",
   "pygments_lexer": "ipython3",
   "version": "3.6.1"
  }
 },
 "nbformat": 4,
 "nbformat_minor": 2
}
