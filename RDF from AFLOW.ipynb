{
 "cells": [
  {
   "cell_type": "code",
   "execution_count": 65,
   "metadata": {},
   "outputs": [],
   "source": [
    "from RDF_KREdits import *"
   ]
  },
  {
   "cell_type": "code",
   "execution_count": 57,
   "metadata": {},
   "outputs": [],
   "source": [
    "NaCl = crystal('POSCAR', 'POSCAR-NaCl')"
   ]
  },
  {
   "cell_type": "code",
   "execution_count": 58,
   "metadata": {},
   "outputs": [
    {
     "name": "stdout",
     "output_type": "stream",
     "text": [
      "[[ 0.2         0.        ]\n",
      " [ 0.4         0.        ]\n",
      " [ 0.6         0.        ]\n",
      " [ 0.8         0.        ]\n",
      " [ 1.          0.        ]\n",
      " [ 1.2         0.        ]\n",
      " [ 1.4         0.        ]\n",
      " [ 1.6         0.        ]\n",
      " [ 1.8         0.        ]\n",
      " [ 2.          0.        ]\n",
      " [ 2.2         0.        ]\n",
      " [ 2.4         0.        ]\n",
      " [ 2.6         0.        ]\n",
      " [ 2.8        56.14614692]\n",
      " [ 3.          0.        ]\n",
      " [ 3.2         0.        ]\n",
      " [ 3.4         0.        ]\n",
      " [ 3.6         0.        ]\n",
      " [ 3.8         0.        ]\n",
      " [ 4.         55.02322398]\n",
      " [ 4.2         0.        ]\n",
      " [ 4.4         0.        ]\n",
      " [ 4.6         0.        ]\n",
      " [ 4.8         0.        ]\n",
      " [ 5.         23.47657557]\n",
      " [ 5.2         0.        ]\n",
      " [ 5.4         0.        ]\n",
      " [ 5.6        14.03653673]\n",
      " [ 5.8         0.        ]\n",
      " [ 6.          0.        ]\n",
      " [ 6.2         0.        ]\n",
      " [ 6.4        42.98689374]\n",
      " [ 6.6         0.        ]\n",
      " [ 6.8         0.        ]\n",
      " [ 7.         35.93353403]\n",
      " [ 7.2         0.        ]\n",
      " [ 7.4         0.        ]\n",
      " [ 7.6         0.        ]\n",
      " [ 7.8         0.        ]\n",
      " [ 8.         13.755806  ]\n",
      " [ 8.2         0.        ]\n",
      " [ 8.4         0.        ]\n",
      " [ 8.6        29.75836884]\n",
      " [ 8.8         0.        ]\n",
      " [ 9.         21.73756997]\n",
      " [ 9.2         0.        ]\n",
      " [ 9.4        19.92692584]\n",
      " [ 9.6         0.        ]\n",
      " [ 9.8         6.11114524]\n",
      " [10.          0.        ]]\n"
     ]
    },
    {
     "data": {
      "image/png": "[encoded data removed]",
      "text/plain": [
       "<matplotlib.figure.Figure at 0x1b3a324cd68>"
      ]
     },
     "metadata": {},
     "output_type": "display_data"
    },
    {
     "data": {
      "text/plain": [
       "<RDF_KREdits.RDF at 0x1b3a324cf28>"
      ]
     },
     "execution_count": 58,
     "metadata": {},
     "output_type": "execute_result"
    }
   ],
   "source": [
    "RDF(NaCl)\n",
    "#print(composition)"
   ]
  },
  {
   "cell_type": "code",
   "execution_count": 45,
   "metadata": {},
   "outputs": [],
   "source": [
    "from aflow import *\n",
    "\n",
    "result = search(batch_size=20\n",
    "        ).filter(K.Egap > 1\n",
    "        ).filter(K.nspecies == 2\n",
    "        ).filter(K.natoms == 2)\n"
   ]
  },
  {
   "cell_type": "code",
   "execution_count": 47,
   "metadata": {},
   "outputs": [
    {
     "name": "stdout",
     "output_type": "stream",
     "text": [
      "http://aflowlib.duke.edu/AFLOWDATA/ICSD_WEB/CUB/H1Na1_ICSD_261354\n"
     ]
    }
   ],
   "source": [
    "z= result[0]\n",
    "print(z)\n",
    "#help(z)\n",
    "#df2= pd.DataFrame(z)"
   ]
  },
  {
   "cell_type": "code",
   "execution_count": 53,
   "metadata": {},
   "outputs": [
    {
     "name": "stdout",
     "output_type": "stream",
     "text": [
      "[1 1]\n"
     ]
    }
   ],
   "source": [
    "lattice= crystal.para2matrix(z.geometry)\n",
    "print(composition)\n",
    "#self, lattice, atom_type, composition, coordinate\n",
    "atom_type=z.species\n",
    "composition= z.composition\n",
    "coordinate= z.positions_fractional"
   ]
  },
  {
   "cell_type": "code",
   "execution_count": 97,
   "metadata": {},
   "outputs": [
    {
     "ename": "AttributeError",
     "evalue": "can't set attribute",
     "output_type": "error",
     "traceback": [
      "\u001b[1;31m---------------------------------------------------------------------------\u001b[0m",
      "\u001b[1;31mAttributeError\u001b[0m                            Traceback (most recent call last)",
      "\u001b[1;32m<ipython-input-97-6699f029aae8>\u001b[0m in \u001b[0;36m<module>\u001b[1;34m()\u001b[0m\n\u001b[1;32m----> 1\u001b[1;33m \u001b[0mR1\u001b[0m\u001b[1;33m=\u001b[0m \u001b[0mcrystal\u001b[0m\u001b[1;33m.\u001b[0m\u001b[0mfrom_dict\u001b[0m\u001b[1;33m(\u001b[0m\u001b[0mz\u001b[0m\u001b[1;33m,\u001b[0m \u001b[0mlattice\u001b[0m\u001b[1;33m,\u001b[0m \u001b[0matom_type\u001b[0m\u001b[1;33m,\u001b[0m \u001b[0mcomposition\u001b[0m \u001b[1;33m,\u001b[0m \u001b[0mcoordinate\u001b[0m\u001b[1;33m)\u001b[0m\u001b[1;33m\u001b[0m\u001b[0m\n\u001b[0m\u001b[0;32m      2\u001b[0m \u001b[1;31m#help(crystal)\u001b[0m\u001b[1;33m\u001b[0m\u001b[1;33m\u001b[0m\u001b[0m\n",
      "\u001b[1;32m~\\Downloads\\RDF-master\\RDF_KREdits.py\u001b[0m in \u001b[0;36mfrom_dict\u001b[1;34m(self, lattice, atom_type, composition, coordinate)\u001b[0m\n\u001b[0;32m    379\u001b[0m         \u001b[1;32mif\u001b[0m \u001b[0mcartesian\u001b[0m\u001b[1;33m:\u001b[0m\u001b[1;33m\u001b[0m\u001b[0m\n\u001b[0;32m    380\u001b[0m             \u001b[0mcoordinate\u001b[0m \u001b[1;33m*=\u001b[0m \u001b[0mlattice_constant\u001b[0m\u001b[1;33m\u001b[0m\u001b[0m\n\u001b[1;32m--> 381\u001b[1;33m         \u001b[0mcell_para\u001b[0m \u001b[1;33m=\u001b[0m \u001b[1;33m[\u001b[0m\u001b[1;33m]\u001b[0m\u001b[1;33m\u001b[0m\u001b[0m\n\u001b[0m\u001b[0;32m    382\u001b[0m         \u001b[0mself\u001b[0m\u001b[1;33m.\u001b[0m\u001b[0mfrom_dict\u001b[0m\u001b[1;33m(\u001b[0m\u001b[0mlattice\u001b[0m\u001b[1;33m,\u001b[0m \u001b[0matom_type\u001b[0m\u001b[1;33m,\u001b[0m \u001b[0mcomposition\u001b[0m\u001b[1;33m,\u001b[0m \u001b[0mcoordinate\u001b[0m\u001b[1;33m)\u001b[0m\u001b[1;33m\u001b[0m\u001b[0m\n\u001b[0;32m    383\u001b[0m \u001b[1;33m\u001b[0m\u001b[0m\n",
      "\u001b[1;31mAttributeError\u001b[0m: can't set attribute"
     ]
    }
   ],
   "source": [
    "R1= crystal.from_dict(z, lattice, atom_type, composition , coordinate)\n",
    "#help(crystal)"
   ]
  },
  {
   "cell_type": "code",
   "execution_count": 24,
   "metadata": {},
   "outputs": [
    {
     "ename": "NameError",
     "evalue": "name 'R1' is not defined",
     "output_type": "error",
     "traceback": [
      "\u001b[1;31m---------------------------------------------------------------------------\u001b[0m",
      "\u001b[1;31mNameError\u001b[0m                                 Traceback (most recent call last)",
      "\u001b[1;32m<ipython-input-24-85e90ea9ae03>\u001b[0m in \u001b[0;36m<module>\u001b[1;34m()\u001b[0m\n\u001b[1;32m----> 1\u001b[1;33m \u001b[0mprint\u001b[0m\u001b[1;33m(\u001b[0m\u001b[0mR1\u001b[0m\u001b[1;33m)\u001b[0m\u001b[1;33m\u001b[0m\u001b[0m\n\u001b[0m\u001b[0;32m      2\u001b[0m \u001b[1;31m#RDF(R1)\u001b[0m\u001b[1;33m\u001b[0m\u001b[1;33m\u001b[0m\u001b[0m\n",
      "\u001b[1;31mNameError\u001b[0m: name 'R1' is not defined"
     ]
    }
   ],
   "source": [
    "print(R1)\n",
    "#RDF(R1)"
   ]
  },
  {
   "cell_type": "code",
   "execution_count": null,
   "metadata": {},
   "outputs": [],
   "source": []
  }
 ],
 "metadata": {
  "kernelspec": {
   "display_name": "Python 3",
   "language": "python",
   "name": "python3"
  },
  "language_info": {
   "codemirror_mode": {
    "name": "ipython",
    "version": 3
   },
   "file_extension": ".py",
   "mimetype": "text/x-python",
   "name": "python",
   "nbconvert_exporter": "python",
   "pygments_lexer": "ipython3",
   "version": "3.6.3"
  }
 },
 "nbformat": 4,
 "nbformat_minor": 2
}
