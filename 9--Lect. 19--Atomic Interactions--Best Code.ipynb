{
 "cells": [
  {
   "cell_type": "code",
   "execution_count": 24,
   "metadata": {},
   "outputs": [
    {
     "name": "stdout",
     "output_type": "stream",
     "text": [
      "[[-0.1700821249945501, 3.164046946980932, 1.869639120924952, -0.37078219604702056, 3.851875225844366, -0.32228020316016304, -0.7750438307742256, 0.5106713224859627, -1.8978335276000333]]\n",
      "-2.9999999999999796\n",
      "[ 1.04465572  1.7942796   2.02111228  0.78067346  1.59465941  0.78332432\n",
      " -0.59932343 -0.41114271 -1.15289966]\n"
     ]
    }
   ],
   "source": [
    "#More efficient\n",
    "\n",
    "import numpy as np\n",
    "import matplotlib.pyplot as plt\n",
    "\n",
    "xmin, xmax = -3, 3\n",
    "ymin, ymax = -4,4\n",
    "zmin, zmax =-2, 2\n",
    "\n",
    "def LJ(r):\n",
    "    r6 = r**6\n",
    "    r12 = r6*r6\n",
    "    return 4*(1/r12 - 1/r6)\n",
    "\n",
    "\n",
    "#calculate r values\n",
    "#dist_01= np.sqrt((x[1] - x[0])**2 + (x[4]-x[3])**2 + (x[7]- x[6])**2)\n",
    "#dist_12= np.sqrt((x[2] - x[1])**2 + (x[5]-x[4])**2 + (x[8]- x[7])**2)\n",
    "#dist_20= np.sqrt((x[2] - x[0])**2 + (x[5]-x[3])**2 + (x[8]- x[6])**2)\n",
    "\n",
    "\n",
    "#Calculate energies\n",
    "def total_energy(x):\n",
    "    \"\"\"X is a array containing 9 numbers\"\"\"\n",
    "    pos[0] = x[0:3]    #x0, x1, x2\n",
    "    pos[1] = x[3:6]    #y0, y1, y2\n",
    "    pos[2] = x[6:]     #z0, z1, z2\n",
    "    #calculate r values\n",
    "    dist_01= np.sqrt((x[1] - x[0])**2 + (x[4]-x[3])**2 + (x[7]- x[6])**2)\n",
    "    dist_12= np.sqrt((x[2] - x[1])**2 + (x[5]-x[4])**2 + (x[8]- x[7])**2)\n",
    "    dist_20= np.sqrt((x[2] - x[0])**2 + (x[5]-x[3])**2 + (x[8]- x[6])**2)\n",
    "    E01 = LJ(dist_01)\n",
    "    E12 = LJ(dist_12)\n",
    "    E20 = LJ(dist_20)\n",
    "    return E01+E12+E20\n",
    "\n",
    "\n",
    "def init_pos(xmin=0, xmax=1, ymin=0, ymax=1, zmin=0, zmax=1): #random value\n",
    "    x0= xmin+np.random.random()*(xmax-xmin)\n",
    "    x1= xmin+np.random.random()*(xmax-xmin)\n",
    "    x2= xmin+np.random.random()*(xmax-xmin)\n",
    "    \n",
    "    y0= ymin+np.random.random()*(ymax-ymin)\n",
    "    y1= ymin+np.random.random()*(ymax-ymin)\n",
    "    y2= ymin+np.random.random()*(ymax-ymin)\n",
    "    \n",
    "    z0= zmin+np.random.random()*(zmax-zmin)\n",
    "    z1= zmin+np.random.random()*(zmax-zmin)\n",
    "    z2= zmin+np.random.random()*(zmax-zmin)\n",
    "    \n",
    "    return [x0, y0, z0, x1, y1, z1, x2, y2, z2]\n",
    "\n",
    "x = [init_pos(xmin, xmax, ymin, ymax, zmin, zmax)]\n",
    "\n",
    "\n",
    "\n",
    "print (x)\n",
    "pos = init_pos()\n",
    "\n",
    "from scipy.optimize import minimize\n",
    "\n",
    "res = minimize(total_energy, x, method='CG', tol=1e-4)\n",
    "print(res.fun)\n",
    "print(res.x)"
   ]
  },
  {
   "cell_type": "code",
   "execution_count": null,
   "metadata": {
    "collapsed": true
   },
   "outputs": [],
   "source": []
  }
 ],
 "metadata": {
  "kernelspec": {
   "display_name": "Python 3",
   "language": "python",
   "name": "python3"
  },
  "language_info": {
   "codemirror_mode": {
    "name": "ipython",
    "version": 3
   },
   "file_extension": ".py",
   "mimetype": "text/x-python",
   "name": "python",
   "nbconvert_exporter": "python",
   "pygments_lexer": "ipython3",
   "version": "3.6.1"
  }
 },
 "nbformat": 4,
 "nbformat_minor": 2
}
