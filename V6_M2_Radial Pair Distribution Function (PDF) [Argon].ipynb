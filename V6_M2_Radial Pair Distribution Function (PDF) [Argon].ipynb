{
 "cells": [
  {
   "cell_type": "code",
   "execution_count": 1,
   "metadata": {},
   "outputs": [
    {
     "data": {
      "text/plain": [
       "'Specifically, this model calculates the PDF for Solid Argon, an FCC structure'"
      ]
     },
     "execution_count": 1,
     "metadata": {},
     "output_type": "execute_result"
    }
   ],
   "source": [
    "'''Objective: To combine the ML input arrays atomic position and lattice data into a single array \n",
    "                by use of radial pair distribution function'''\n",
    "\n",
    "'''Specifically, this model calculates the PDF for Solid Argon, an FCC structure'''"
   ]
  },
  {
   "cell_type": "code",
   "execution_count": 2,
   "metadata": {},
   "outputs": [],
   "source": [
    "import numpy as np\n",
    "import matplotlib.pyplot as plt\n",
    "from scipy import spatial "
   ]
  },
  {
   "cell_type": "code",
   "execution_count": 16,
   "metadata": {},
   "outputs": [
    {
     "name": "stdout",
     "output_type": "stream",
     "text": [
      "[[5.25 0.   0.  ]\n",
      " [0.   5.25 0.  ]\n",
      " [0.   0.   5.25]]\n"
     ]
    }
   ],
   "source": [
    "L= 5.25\n",
    "X1 = L * np.eye(3)\n",
    "print(X1)\n"
   ]
  },
  {
   "cell_type": "code",
   "execution_count": 4,
   "metadata": {
    "scrolled": true
   },
   "outputs": [
    {
     "name": "stdout",
     "output_type": "stream",
     "text": [
      "3\n",
      "108 108\n"
     ]
    },
    {
     "data": {
      "text/plain": [
       "(108, 3)"
      ]
     },
     "execution_count": 4,
     "metadata": {},
     "output_type": "execute_result"
    }
   ],
   "source": [
    " \n",
    "\n",
    "X2= np.array([[0,0,0],[0,.5,.5], [.5,.5,0], [.5,0,.5]]) \n",
    "\n",
    "coor = []\n",
    "N=1\n",
    "for i in range(-N,N+1):\n",
    "    for j in range(-N,N+1):\n",
    "        for k in range(-N,N+1):\n",
    "            for x2 in X2:\n",
    "                coor.append(x2+[i,j,k])\n",
    "#print(coor)\n",
    "print(len(range(-N,N+1)))\n",
    "print(len(coor),4*(2*N+1)**3)\n",
    "supercell=np.asarray(coor).reshape(4*(2*N+1)**3,3)\n",
    "#print(supercell)\n",
    "supercell.shape"
   ]
  },
  {
   "cell_type": "code",
   "execution_count": 5,
   "metadata": {
    "scrolled": true
   },
   "outputs": [
    {
     "name": "stdout",
     "output_type": "stream",
     "text": [
      "[[-5.25  -5.25  -5.25 ]\n",
      " [-5.25  -2.625 -2.625]\n",
      " [-2.625 -2.625 -5.25 ]\n",
      " [-2.625 -5.25  -2.625]\n",
      " [-5.25  -5.25   0.   ]\n",
      " [-5.25  -2.625  2.625]\n",
      " [-2.625 -2.625  0.   ]\n",
      " [-2.625 -5.25   2.625]\n",
      " [-5.25  -5.25   5.25 ]\n",
      " [-5.25  -2.625  7.875]\n",
      " [-2.625 -2.625  5.25 ]\n",
      " [-2.625 -5.25   7.875]\n",
      " [-5.25   0.    -5.25 ]\n",
      " [-5.25   2.625 -2.625]\n",
      " [-2.625  2.625 -5.25 ]\n",
      " [-2.625  0.    -2.625]\n",
      " [-5.25   0.     0.   ]\n",
      " [-5.25   2.625  2.625]\n",
      " [-2.625  2.625  0.   ]\n",
      " [-2.625  0.     2.625]\n",
      " [-5.25   0.     5.25 ]\n",
      " [-5.25   2.625  7.875]\n",
      " [-2.625  2.625  5.25 ]\n",
      " [-2.625  0.     7.875]\n",
      " [-5.25   5.25  -5.25 ]\n",
      " [-5.25   7.875 -2.625]\n",
      " [-2.625  7.875 -5.25 ]\n",
      " [-2.625  5.25  -2.625]\n",
      " [-5.25   5.25   0.   ]\n",
      " [-5.25   7.875  2.625]\n",
      " [-2.625  7.875  0.   ]\n",
      " [-2.625  5.25   2.625]\n",
      " [-5.25   5.25   5.25 ]\n",
      " [-5.25   7.875  7.875]\n",
      " [-2.625  7.875  5.25 ]\n",
      " [-2.625  5.25   7.875]\n",
      " [ 0.    -5.25  -5.25 ]\n",
      " [ 0.    -2.625 -2.625]\n",
      " [ 2.625 -2.625 -5.25 ]\n",
      " [ 2.625 -5.25  -2.625]\n",
      " [ 0.    -5.25   0.   ]\n",
      " [ 0.    -2.625  2.625]\n",
      " [ 2.625 -2.625  0.   ]\n",
      " [ 2.625 -5.25   2.625]\n",
      " [ 0.    -5.25   5.25 ]\n",
      " [ 0.    -2.625  7.875]\n",
      " [ 2.625 -2.625  5.25 ]\n",
      " [ 2.625 -5.25   7.875]\n",
      " [ 0.     0.    -5.25 ]\n",
      " [ 0.     2.625 -2.625]\n",
      " [ 2.625  2.625 -5.25 ]\n",
      " [ 2.625  0.    -2.625]\n",
      " [ 0.     0.     0.   ]\n",
      " [ 0.     2.625  2.625]\n",
      " [ 2.625  2.625  0.   ]\n",
      " [ 2.625  0.     2.625]\n",
      " [ 0.     0.     5.25 ]\n",
      " [ 0.     2.625  7.875]\n",
      " [ 2.625  2.625  5.25 ]\n",
      " [ 2.625  0.     7.875]\n",
      " [ 0.     5.25  -5.25 ]\n",
      " [ 0.     7.875 -2.625]\n",
      " [ 2.625  7.875 -5.25 ]\n",
      " [ 2.625  5.25  -2.625]\n",
      " [ 0.     5.25   0.   ]\n",
      " [ 0.     7.875  2.625]\n",
      " [ 2.625  7.875  0.   ]\n",
      " [ 2.625  5.25   2.625]\n",
      " [ 0.     5.25   5.25 ]\n",
      " [ 0.     7.875  7.875]\n",
      " [ 2.625  7.875  5.25 ]\n",
      " [ 2.625  5.25   7.875]\n",
      " [ 5.25  -5.25  -5.25 ]\n",
      " [ 5.25  -2.625 -2.625]\n",
      " [ 7.875 -2.625 -5.25 ]\n",
      " [ 7.875 -5.25  -2.625]\n",
      " [ 5.25  -5.25   0.   ]\n",
      " [ 5.25  -2.625  2.625]\n",
      " [ 7.875 -2.625  0.   ]\n",
      " [ 7.875 -5.25   2.625]\n",
      " [ 5.25  -5.25   5.25 ]\n",
      " [ 5.25  -2.625  7.875]\n",
      " [ 7.875 -2.625  5.25 ]\n",
      " [ 7.875 -5.25   7.875]\n",
      " [ 5.25   0.    -5.25 ]\n",
      " [ 5.25   2.625 -2.625]\n",
      " [ 7.875  2.625 -5.25 ]\n",
      " [ 7.875  0.    -2.625]\n",
      " [ 5.25   0.     0.   ]\n",
      " [ 5.25   2.625  2.625]\n",
      " [ 7.875  2.625  0.   ]\n",
      " [ 7.875  0.     2.625]\n",
      " [ 5.25   0.     5.25 ]\n",
      " [ 5.25   2.625  7.875]\n",
      " [ 7.875  2.625  5.25 ]\n",
      " [ 7.875  0.     7.875]\n",
      " [ 5.25   5.25  -5.25 ]\n",
      " [ 5.25   7.875 -2.625]\n",
      " [ 7.875  7.875 -5.25 ]\n",
      " [ 7.875  5.25  -2.625]\n",
      " [ 5.25   5.25   0.   ]\n",
      " [ 5.25   7.875  2.625]\n",
      " [ 7.875  7.875  0.   ]\n",
      " [ 7.875  5.25   2.625]\n",
      " [ 5.25   5.25   5.25 ]\n",
      " [ 5.25   7.875  7.875]\n",
      " [ 7.875  7.875  5.25 ]\n",
      " [ 7.875  5.25   7.875]]\n"
     ]
    }
   ],
   "source": [
    "\n",
    "rij_dot = np.dot(supercell, X1)\n",
    "print(rij_dot)"
   ]
  },
  {
   "cell_type": "code",
   "execution_count": 6,
   "metadata": {},
   "outputs": [],
   "source": [
    "origin = np.zeros([1,3])\n",
    "#print(origin) "
   ]
  },
  {
   "cell_type": "code",
   "execution_count": 7,
   "metadata": {},
   "outputs": [
    {
     "name": "stdout",
     "output_type": "stream",
     "text": [
      "[[ 9.09326674]\n",
      " [ 6.42991057]\n",
      " [ 6.42991057]\n",
      " [ 6.42991057]\n",
      " [ 7.4246212 ]\n",
      " [ 6.42991057]\n",
      " [ 3.7123106 ]\n",
      " [ 6.42991057]\n",
      " [ 9.09326674]\n",
      " [ 9.82185064]\n",
      " [ 6.42991057]\n",
      " [ 9.82185064]\n",
      " [ 7.4246212 ]\n",
      " [ 6.42991057]\n",
      " [ 6.42991057]\n",
      " [ 3.7123106 ]\n",
      " [ 5.25      ]\n",
      " [ 6.42991057]\n",
      " [ 3.7123106 ]\n",
      " [ 3.7123106 ]\n",
      " [ 7.4246212 ]\n",
      " [ 9.82185064]\n",
      " [ 6.42991057]\n",
      " [ 8.30097886]\n",
      " [ 9.09326674]\n",
      " [ 9.82185064]\n",
      " [ 9.82185064]\n",
      " [ 6.42991057]\n",
      " [ 7.4246212 ]\n",
      " [ 9.82185064]\n",
      " [ 8.30097886]\n",
      " [ 6.42991057]\n",
      " [ 9.09326674]\n",
      " [12.31234137]\n",
      " [ 9.82185064]\n",
      " [ 9.82185064]\n",
      " [ 7.4246212 ]\n",
      " [ 3.7123106 ]\n",
      " [ 6.42991057]\n",
      " [ 6.42991057]\n",
      " [ 5.25      ]\n",
      " [ 3.7123106 ]\n",
      " [ 3.7123106 ]\n",
      " [ 6.42991057]\n",
      " [ 7.4246212 ]\n",
      " [ 8.30097886]\n",
      " [ 6.42991057]\n",
      " [ 9.82185064]\n",
      " [ 5.25      ]\n",
      " [ 3.7123106 ]\n",
      " [ 6.42991057]\n",
      " [ 3.7123106 ]\n",
      " [ 0.        ]\n",
      " [ 3.7123106 ]\n",
      " [ 3.7123106 ]\n",
      " [ 3.7123106 ]\n",
      " [ 5.25      ]\n",
      " [ 8.30097886]\n",
      " [ 6.42991057]\n",
      " [ 8.30097886]\n",
      " [ 7.4246212 ]\n",
      " [ 8.30097886]\n",
      " [ 9.82185064]\n",
      " [ 6.42991057]\n",
      " [ 5.25      ]\n",
      " [ 8.30097886]\n",
      " [ 8.30097886]\n",
      " [ 6.42991057]\n",
      " [ 7.4246212 ]\n",
      " [11.1369318 ]\n",
      " [ 9.82185064]\n",
      " [ 9.82185064]\n",
      " [ 9.09326674]\n",
      " [ 6.42991057]\n",
      " [ 9.82185064]\n",
      " [ 9.82185064]\n",
      " [ 7.4246212 ]\n",
      " [ 6.42991057]\n",
      " [ 8.30097886]\n",
      " [ 9.82185064]\n",
      " [ 9.09326674]\n",
      " [ 9.82185064]\n",
      " [ 9.82185064]\n",
      " [12.31234137]\n",
      " [ 7.4246212 ]\n",
      " [ 6.42991057]\n",
      " [ 9.82185064]\n",
      " [ 8.30097886]\n",
      " [ 5.25      ]\n",
      " [ 6.42991057]\n",
      " [ 8.30097886]\n",
      " [ 8.30097886]\n",
      " [ 7.4246212 ]\n",
      " [ 9.82185064]\n",
      " [ 9.82185064]\n",
      " [11.1369318 ]\n",
      " [ 9.09326674]\n",
      " [ 9.82185064]\n",
      " [12.31234137]\n",
      " [ 9.82185064]\n",
      " [ 7.4246212 ]\n",
      " [ 9.82185064]\n",
      " [11.1369318 ]\n",
      " [ 9.82185064]\n",
      " [ 9.09326674]\n",
      " [12.31234137]\n",
      " [12.31234137]\n",
      " [12.31234137]]\n"
     ]
    },
    {
     "data": {
      "text/plain": [
       "(108, 1)"
      ]
     },
     "execution_count": 7,
     "metadata": {},
     "output_type": "execute_result"
    }
   ],
   "source": [
    "rij_dist= spatial.distance.cdist(rij_dot, origin)\n",
    "\n",
    "rij_dist.shape\n",
    "\n",
    "print(rij_dist)\n",
    "rij_dist.shape"
   ]
  },
  {
   "cell_type": "code",
   "execution_count": 8,
   "metadata": {
    "scrolled": true
   },
   "outputs": [
    {
     "name": "stdout",
     "output_type": "stream",
     "text": [
      "[0, 0, 0, 0, 0, 0, 0, 0, 0, 0, 0, 0, 0, 0, 0, 0, 0, 12, 0, 0, 0, 0, 0, 0, 0, 6, 0, 0, 0, 0, 0, 24, 0, 0, 0, 0, 12, 0, 0, 0, 12, 0, 0, 0, 8, 0, 0, 0, 24, 0]\n",
      "[ 0.2  0.4  0.6  0.8  1.   1.2  1.4  1.6  1.8  2.   2.2  2.4  2.6  2.8\n",
      "  3.   3.2  3.4  3.6  3.8  4.   4.2  4.4  4.6  4.8  5.   5.2  5.4  5.6\n",
      "  5.8  6.   6.2  6.4  6.6  6.8  7.   7.2  7.4  7.6  7.8  8.   8.2  8.4\n",
      "  8.6  8.8  9.   9.2  9.4  9.6  9.8 10. ]\n"
     ]
    }
   ],
   "source": [
    "'''Na = all the j number of atoms \n",
    "   r = the radii varying at each step by dr=0.2\n",
    "   delta function between rij and r gives a 1 or 0 only\n",
    "         gives 1 only if r<rij<r+dr, meaning we found an atom at that r'''\n",
    "\n",
    "\n",
    "Na= 4\n",
    "dr = 0.2\n",
    "R= []\n",
    "\n",
    "r= np.arange(0.2, 10.2, 0.2)\n",
    "\n",
    "#def delta(r, rij):\n",
    "\n",
    "for i in np.nditer(r):\n",
    "    count=0\n",
    "    for j in np.nditer(rij_dist):\n",
    "        if i < j <= (i+dr):\n",
    "            count += 1\n",
    "    R.append(count)         \n",
    "    \n",
    "print(R)\n",
    "print(r)"
   ]
  },
  {
   "cell_type": "code",
   "execution_count": 17,
   "metadata": {},
   "outputs": [
    {
     "name": "stdout",
     "output_type": "stream",
     "text": [
      "0.7463556851311953\n"
     ]
    }
   ],
   "source": [
    "rho = len(rij_dist)/ ((L)**3)\n",
    "len(rij_dist)\n",
    "#c = (L)**3\n",
    "print(rho)"
   ]
  },
  {
   "cell_type": "code",
   "execution_count": 18,
   "metadata": {},
   "outputs": [
    {
     "name": "stdout",
     "output_type": "stream",
     "text": [
      "[0.         0.         0.         0.         0.         0.\n",
      " 0.         0.         0.         0.         0.         0.\n",
      " 0.         0.         0.         0.         0.         0.12340437\n",
      " 0.         0.         0.         0.         0.         0.\n",
      " 0.         0.02957324 0.         0.         0.         0.\n",
      " 0.         0.07809183 0.         0.         0.         0.\n",
      " 0.029206   0.         0.         0.         0.02378526 0.\n",
      " 0.         0.         0.01316313 0.         0.         0.\n",
      " 0.0333053  0.        ]\n"
     ]
    }
   ],
   "source": [
    "from math import pi\n",
    "\n",
    "K= (4* pi * dr * rho  * Na)\n",
    "\n",
    "R_norm = np.divide(R, (K*(r**2)))\n",
    "\n",
    "#R_norm = div/(4* pi * dr * rho  * Na)\n",
    "\n",
    "print(R_norm)"
   ]
  },
  {
   "cell_type": "code",
   "execution_count": 21,
   "metadata": {
    "scrolled": true
   },
   "outputs": [
    {
     "data": {
      "text/plain": [
       "Text(0.5,1,'Number of atoms as a function of radius')"
      ]
     },
     "execution_count": 21,
     "metadata": {},
     "output_type": "execute_result"
    },
    {
     "data": {
      "image/png": "[encoded data removed]",
      "text/plain": [
       "<matplotlib.figure.Figure at 0x2be659633c8>"
      ]
     },
     "metadata": {},
     "output_type": "display_data"
    }
   ],
   "source": [
    "'''graph the function'''\n",
    "#x=r\n",
    "#f(x)=R @that point\n",
    "plt.plot(r, R, color='green')\n",
    "#plt.xlim(0,15)\n",
    "plt.xlabel('Radius (r) [Angstroms]')\n",
    "plt.ylabel('Number of atoms')\n",
    "plt.title('Number of atoms as a function of radius')"
   ]
  },
  {
   "cell_type": "code",
   "execution_count": 20,
   "metadata": {},
   "outputs": [
    {
     "data": {
      "text/plain": [
       "Text(0,0.5,'PDF Value')"
      ]
     },
     "execution_count": 20,
     "metadata": {},
     "output_type": "execute_result"
    },
    {
     "data": {
      "image/png": "[encoded data removed]",
      "text/plain": [
       "<matplotlib.figure.Figure at 0x2be6590fb70>"
      ]
     },
     "metadata": {},
     "output_type": "display_data"
    }
   ],
   "source": [
    "plt.plot(r, R_norm, color=('darkorchid'))\n",
    "plt.title(\"Normalized Coordination Numbers vs radius\")\n",
    "plt.xlabel(\"Radius [Angstrom]\")\n",
    "plt.ylabel(\"PDF Value\")"
   ]
  },
  {
   "cell_type": "code",
   "execution_count": null,
   "metadata": {},
   "outputs": [],
   "source": []
  }
 ],
 "metadata": {
  "kernelspec": {
   "display_name": "Python 3",
   "language": "python",
   "name": "python3"
  },
  "language_info": {
   "codemirror_mode": {
    "name": "ipython",
    "version": 3
   },
   "file_extension": ".py",
   "mimetype": "text/x-python",
   "name": "python",
   "nbconvert_exporter": "python",
   "pygments_lexer": "ipython3",
   "version": "3.6.3"
  }
 },
 "nbformat": 4,
 "nbformat_minor": 2
}
