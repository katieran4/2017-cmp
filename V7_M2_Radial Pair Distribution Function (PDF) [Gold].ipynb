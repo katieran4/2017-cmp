{
 "cells": [
  {
   "cell_type": "code",
   "execution_count": 1,
   "metadata": {},
   "outputs": [
    {
     "data": {
      "text/plain": [
       "'Specifically, this model calculates the PDF for Solid Gold, an FCC structure'"
      ]
     },
     "execution_count": 1,
     "metadata": {},
     "output_type": "execute_result"
    }
   ],
   "source": [
    "'''Objective: To combine the ML input arrays atomic position and lattice data into a single array \n",
    "                by use of radial pair distribution function'''\n",
    "\n",
    "'''Specifically, this model calculates the PDF for Solid Gold, an FCC structure'''"
   ]
  },
  {
   "cell_type": "code",
   "execution_count": 2,
   "metadata": {},
   "outputs": [],
   "source": [
    "import numpy as np\n",
    "import matplotlib.pyplot as plt\n",
    "from scipy import spatial "
   ]
  },
  {
   "cell_type": "code",
   "execution_count": 19,
   "metadata": {},
   "outputs": [
    {
     "name": "stdout",
     "output_type": "stream",
     "text": [
      "[[4.07 0.   0.  ]\n",
      " [0.   4.07 0.  ]\n",
      " [0.   0.   4.07]]\n"
     ]
    }
   ],
   "source": [
    "L= 4.07\n",
    "\n",
    "X1 = L*np.eye(3)\n",
    "print(X1)\n"
   ]
  },
  {
   "cell_type": "code",
   "execution_count": 22,
   "metadata": {
    "scrolled": false
   },
   "outputs": [
    {
     "name": "stdout",
     "output_type": "stream",
     "text": [
      "3\n",
      "108 108\n"
     ]
    },
    {
     "data": {
      "text/plain": [
       "(108, 3)"
      ]
     },
     "execution_count": 22,
     "metadata": {},
     "output_type": "execute_result"
    }
   ],
   "source": [
    " X2= np.array([[0,0,0],[0,.5,.5], [.5,.5,0], [.5,0,.5]]) \n",
    "\n",
    "coor = []\n",
    "N=1\n",
    "for i in range(-N,N+1):\n",
    "    for j in range(-N,N+1):\n",
    "        for k in range(-N,N+1):\n",
    "            for x2 in X2:\n",
    "                coor.append(x2+[i,j,k])\n",
    "#print(coor)\n",
    "print(len(range(-N,N+1)))\n",
    "print(len(coor),4*(2*N+1)**3)\n",
    "supercell=np.asarray(coor).reshape(4*(2*N+1)**3,3)\n",
    "#print(supercell)\n",
    "supercell.shape"
   ]
  },
  {
   "cell_type": "code",
   "execution_count": 23,
   "metadata": {
    "scrolled": true
   },
   "outputs": [
    {
     "name": "stdout",
     "output_type": "stream",
     "text": [
      "[[-4.07  -4.07  -4.07 ]\n",
      " [-4.07  -2.035 -2.035]\n",
      " [-2.035 -2.035 -4.07 ]\n",
      " [-2.035 -4.07  -2.035]\n",
      " [-4.07  -4.07   0.   ]\n",
      " [-4.07  -2.035  2.035]\n",
      " [-2.035 -2.035  0.   ]\n",
      " [-2.035 -4.07   2.035]\n",
      " [-4.07  -4.07   4.07 ]\n",
      " [-4.07  -2.035  6.105]\n",
      " [-2.035 -2.035  4.07 ]\n",
      " [-2.035 -4.07   6.105]\n",
      " [-4.07   0.    -4.07 ]\n",
      " [-4.07   2.035 -2.035]\n",
      " [-2.035  2.035 -4.07 ]\n",
      " [-2.035  0.    -2.035]\n",
      " [-4.07   0.     0.   ]\n",
      " [-4.07   2.035  2.035]\n",
      " [-2.035  2.035  0.   ]\n",
      " [-2.035  0.     2.035]\n",
      " [-4.07   0.     4.07 ]\n",
      " [-4.07   2.035  6.105]\n",
      " [-2.035  2.035  4.07 ]\n",
      " [-2.035  0.     6.105]\n",
      " [-4.07   4.07  -4.07 ]\n",
      " [-4.07   6.105 -2.035]\n",
      " [-2.035  6.105 -4.07 ]\n",
      " [-2.035  4.07  -2.035]\n",
      " [-4.07   4.07   0.   ]\n",
      " [-4.07   6.105  2.035]\n",
      " [-2.035  6.105  0.   ]\n",
      " [-2.035  4.07   2.035]\n",
      " [-4.07   4.07   4.07 ]\n",
      " [-4.07   6.105  6.105]\n",
      " [-2.035  6.105  4.07 ]\n",
      " [-2.035  4.07   6.105]\n",
      " [ 0.    -4.07  -4.07 ]\n",
      " [ 0.    -2.035 -2.035]\n",
      " [ 2.035 -2.035 -4.07 ]\n",
      " [ 2.035 -4.07  -2.035]\n",
      " [ 0.    -4.07   0.   ]\n",
      " [ 0.    -2.035  2.035]\n",
      " [ 2.035 -2.035  0.   ]\n",
      " [ 2.035 -4.07   2.035]\n",
      " [ 0.    -4.07   4.07 ]\n",
      " [ 0.    -2.035  6.105]\n",
      " [ 2.035 -2.035  4.07 ]\n",
      " [ 2.035 -4.07   6.105]\n",
      " [ 0.     0.    -4.07 ]\n",
      " [ 0.     2.035 -2.035]\n",
      " [ 2.035  2.035 -4.07 ]\n",
      " [ 2.035  0.    -2.035]\n",
      " [ 0.     0.     0.   ]\n",
      " [ 0.     2.035  2.035]\n",
      " [ 2.035  2.035  0.   ]\n",
      " [ 2.035  0.     2.035]\n",
      " [ 0.     0.     4.07 ]\n",
      " [ 0.     2.035  6.105]\n",
      " [ 2.035  2.035  4.07 ]\n",
      " [ 2.035  0.     6.105]\n",
      " [ 0.     4.07  -4.07 ]\n",
      " [ 0.     6.105 -2.035]\n",
      " [ 2.035  6.105 -4.07 ]\n",
      " [ 2.035  4.07  -2.035]\n",
      " [ 0.     4.07   0.   ]\n",
      " [ 0.     6.105  2.035]\n",
      " [ 2.035  6.105  0.   ]\n",
      " [ 2.035  4.07   2.035]\n",
      " [ 0.     4.07   4.07 ]\n",
      " [ 0.     6.105  6.105]\n",
      " [ 2.035  6.105  4.07 ]\n",
      " [ 2.035  4.07   6.105]\n",
      " [ 4.07  -4.07  -4.07 ]\n",
      " [ 4.07  -2.035 -2.035]\n",
      " [ 6.105 -2.035 -4.07 ]\n",
      " [ 6.105 -4.07  -2.035]\n",
      " [ 4.07  -4.07   0.   ]\n",
      " [ 4.07  -2.035  2.035]\n",
      " [ 6.105 -2.035  0.   ]\n",
      " [ 6.105 -4.07   2.035]\n",
      " [ 4.07  -4.07   4.07 ]\n",
      " [ 4.07  -2.035  6.105]\n",
      " [ 6.105 -2.035  4.07 ]\n",
      " [ 6.105 -4.07   6.105]\n",
      " [ 4.07   0.    -4.07 ]\n",
      " [ 4.07   2.035 -2.035]\n",
      " [ 6.105  2.035 -4.07 ]\n",
      " [ 6.105  0.    -2.035]\n",
      " [ 4.07   0.     0.   ]\n",
      " [ 4.07   2.035  2.035]\n",
      " [ 6.105  2.035  0.   ]\n",
      " [ 6.105  0.     2.035]\n",
      " [ 4.07   0.     4.07 ]\n",
      " [ 4.07   2.035  6.105]\n",
      " [ 6.105  2.035  4.07 ]\n",
      " [ 6.105  0.     6.105]\n",
      " [ 4.07   4.07  -4.07 ]\n",
      " [ 4.07   6.105 -2.035]\n",
      " [ 6.105  6.105 -4.07 ]\n",
      " [ 6.105  4.07  -2.035]\n",
      " [ 4.07   4.07   0.   ]\n",
      " [ 4.07   6.105  2.035]\n",
      " [ 6.105  6.105  0.   ]\n",
      " [ 6.105  4.07   2.035]\n",
      " [ 4.07   4.07   4.07 ]\n",
      " [ 4.07   6.105  6.105]\n",
      " [ 6.105  6.105  4.07 ]\n",
      " [ 6.105  4.07   6.105]]\n"
     ]
    }
   ],
   "source": [
    "\n",
    "rij_dot = np.dot(supercell, X1)\n",
    "print(rij_dot)"
   ]
  },
  {
   "cell_type": "code",
   "execution_count": 24,
   "metadata": {},
   "outputs": [],
   "source": [
    "origin = np.zeros([1,3])\n",
    "#print(origin) "
   ]
  },
  {
   "cell_type": "code",
   "execution_count": 25,
   "metadata": {},
   "outputs": [
    {
     "name": "stdout",
     "output_type": "stream",
     "text": [
      "[[7.04944679]\n",
      " [4.98471163]\n",
      " [4.98471163]\n",
      " [4.98471163]\n",
      " [5.7558492 ]\n",
      " [4.98471163]\n",
      " [2.8779246 ]\n",
      " [4.98471163]\n",
      " [7.04944679]\n",
      " [7.61427278]\n",
      " [4.98471163]\n",
      " [7.61427278]\n",
      " [5.7558492 ]\n",
      " [4.98471163]\n",
      " [4.98471163]\n",
      " [2.8779246 ]\n",
      " [4.07      ]\n",
      " [4.98471163]\n",
      " [2.8779246 ]\n",
      " [2.8779246 ]\n",
      " [5.7558492 ]\n",
      " [7.61427278]\n",
      " [4.98471163]\n",
      " [6.43523504]\n",
      " [7.04944679]\n",
      " [7.61427278]\n",
      " [7.61427278]\n",
      " [4.98471163]\n",
      " [5.7558492 ]\n",
      " [7.61427278]\n",
      " [6.43523504]\n",
      " [4.98471163]\n",
      " [7.04944679]\n",
      " [9.54499607]\n",
      " [7.61427278]\n",
      " [7.61427278]\n",
      " [5.7558492 ]\n",
      " [2.8779246 ]\n",
      " [4.98471163]\n",
      " [4.98471163]\n",
      " [4.07      ]\n",
      " [2.8779246 ]\n",
      " [2.8779246 ]\n",
      " [4.98471163]\n",
      " [5.7558492 ]\n",
      " [6.43523504]\n",
      " [4.98471163]\n",
      " [7.61427278]\n",
      " [4.07      ]\n",
      " [2.8779246 ]\n",
      " [4.98471163]\n",
      " [2.8779246 ]\n",
      " [0.        ]\n",
      " [2.8779246 ]\n",
      " [2.8779246 ]\n",
      " [2.8779246 ]\n",
      " [4.07      ]\n",
      " [6.43523504]\n",
      " [4.98471163]\n",
      " [6.43523504]\n",
      " [5.7558492 ]\n",
      " [6.43523504]\n",
      " [7.61427278]\n",
      " [4.98471163]\n",
      " [4.07      ]\n",
      " [6.43523504]\n",
      " [6.43523504]\n",
      " [4.98471163]\n",
      " [5.7558492 ]\n",
      " [8.6337738 ]\n",
      " [7.61427278]\n",
      " [7.61427278]\n",
      " [7.04944679]\n",
      " [4.98471163]\n",
      " [7.61427278]\n",
      " [7.61427278]\n",
      " [5.7558492 ]\n",
      " [4.98471163]\n",
      " [6.43523504]\n",
      " [7.61427278]\n",
      " [7.04944679]\n",
      " [7.61427278]\n",
      " [7.61427278]\n",
      " [9.54499607]\n",
      " [5.7558492 ]\n",
      " [4.98471163]\n",
      " [7.61427278]\n",
      " [6.43523504]\n",
      " [4.07      ]\n",
      " [4.98471163]\n",
      " [6.43523504]\n",
      " [6.43523504]\n",
      " [5.7558492 ]\n",
      " [7.61427278]\n",
      " [7.61427278]\n",
      " [8.6337738 ]\n",
      " [7.04944679]\n",
      " [7.61427278]\n",
      " [9.54499607]\n",
      " [7.61427278]\n",
      " [5.7558492 ]\n",
      " [7.61427278]\n",
      " [8.6337738 ]\n",
      " [7.61427278]\n",
      " [7.04944679]\n",
      " [9.54499607]\n",
      " [9.54499607]\n",
      " [9.54499607]]\n"
     ]
    },
    {
     "data": {
      "text/plain": [
       "(108, 1)"
      ]
     },
     "execution_count": 25,
     "metadata": {},
     "output_type": "execute_result"
    }
   ],
   "source": [
    "rij_dist= spatial.distance.cdist(rij_dot, origin)\n",
    "\n",
    "rij_dist.shape\n",
    "\n",
    "print(rij_dist)\n",
    "rij_dist.shape"
   ]
  },
  {
   "cell_type": "code",
   "execution_count": 26,
   "metadata": {},
   "outputs": [
    {
     "name": "stdout",
     "output_type": "stream",
     "text": [
      "[0, 0, 0, 0, 0, 0, 0, 0, 0, 0, 0, 0, 0, 12, 0, 0, 0, 0, 0, 6, 0, 0, 0, 24, 0, 0, 0, 12, 0, 0, 0, 12, 0, 0, 8, 0, 0, 24, 0, 0, 0, 0, 3, 0, 0, 0, 6, 0, 0, 0]\n",
      "[ 0.2  0.4  0.6  0.8  1.   1.2  1.4  1.6  1.8  2.   2.2  2.4  2.6  2.8\n",
      "  3.   3.2  3.4  3.6  3.8  4.   4.2  4.4  4.6  4.8  5.   5.2  5.4  5.6\n",
      "  5.8  6.   6.2  6.4  6.6  6.8  7.   7.2  7.4  7.6  7.8  8.   8.2  8.4\n",
      "  8.6  8.8  9.   9.2  9.4  9.6  9.8 10. ]\n"
     ]
    }
   ],
   "source": [
    "'''Na = all the j number of atoms \n",
    "   Nb = all the steps = 50\n",
    "   rij = the geo dot pos matrix\n",
    "   r = the radii varying at each step by dr=0.2\n",
    "   delta function between rij and r gives a 1 or 0 only\n",
    "         gives 1 only if r<rij<r+dr, meaning we found an atom at that r'''\n",
    "\n",
    "\n",
    "Na= 4\n",
    "Nb= 50\n",
    "dr = .2\n",
    "R= []\n",
    "\n",
    "r= np.arange(.2, 10.2, 0.2)\n",
    "\n",
    "for i in np.nditer(r):\n",
    "    count=0\n",
    "    for j in np.nditer(rij_dist):\n",
    "        if i < j <= (i+dr):\n",
    "            count += 1\n",
    "    R.append(count)         \n",
    "    \n",
    "print(R)\n",
    "print(r)\n"
   ]
  },
  {
   "cell_type": "code",
   "execution_count": 27,
   "metadata": {},
   "outputs": [
    {
     "name": "stdout",
     "output_type": "stream",
     "text": [
      "1.6019189089959207\n"
     ]
    }
   ],
   "source": [
    "\n",
    "\n",
    "rho = len(rij_dist)/ (L)**3\n",
    "len(rij_dist)\n",
    "#c = (L)**3\n",
    "print(rho)"
   ]
  },
  {
   "cell_type": "code",
   "execution_count": 29,
   "metadata": {},
   "outputs": [
    {
     "name": "stdout",
     "output_type": "stream",
     "text": [
      "[0.         0.         0.         0.         0.         0.\n",
      " 0.         0.         0.         0.         0.         0.\n",
      " 0.         0.09504402 0.         0.         0.         0.\n",
      " 0.         0.02328579 0.         0.         0.         0.06468274\n",
      " 0.         0.         0.         0.02376101 0.         0.\n",
      " 0.         0.01819202 0.         0.         0.01013803 0.\n",
      " 0.         0.02580142 0.         0.         0.         0.\n",
      " 0.00251874 0.         0.         0.         0.00421653 0.\n",
      " 0.         0.        ]\n"
     ]
    }
   ],
   "source": [
    "from math import pi\n",
    "\n",
    "K= 4* pi * dr *rho *Na\n",
    "R_norm = np.divide(R, (K*(r**2)))\n",
    "\n",
    "#R_norm = div/(4* pi * dr *rho *Na)\n",
    "\n",
    "print(R_norm)"
   ]
  },
  {
   "cell_type": "code",
   "execution_count": 30,
   "metadata": {
    "scrolled": true
   },
   "outputs": [
    {
     "data": {
      "text/plain": [
       "Text(0.5,1,'Radial Pair Distribution')"
      ]
     },
     "execution_count": 30,
     "metadata": {},
     "output_type": "execute_result"
    },
    {
     "data": {
      "image/png": "[encoded data removed]",
      "text/plain": [
       "<matplotlib.figure.Figure at 0x25416b31780>"
      ]
     },
     "metadata": {},
     "output_type": "display_data"
    }
   ],
   "source": [
    "'''graph the function'''\n",
    "#x=r\n",
    "#f(x)=R @that point\n",
    "plt.plot(r, R, color='green')\n",
    "#plt.xlim(0,15)\n",
    "plt.xlabel('Radius (r) [Angstroms]')\n",
    "plt.ylabel('Number of atoms as a function of radius')\n",
    "plt.title('Radial Pair Distribution')"
   ]
  },
  {
   "cell_type": "code",
   "execution_count": 31,
   "metadata": {},
   "outputs": [
    {
     "data": {
      "text/plain": [
       "Text(0,0.5,'PDF Value')"
      ]
     },
     "execution_count": 31,
     "metadata": {},
     "output_type": "execute_result"
    },
    {
     "data": {
      "image/png": "[encoded data removed]",
      "text/plain": [
       "<matplotlib.figure.Figure at 0x25416b9f940>"
      ]
     },
     "metadata": {},
     "output_type": "display_data"
    }
   ],
   "source": [
    "plt.plot(r, R_norm, color=('darkorchid'))\n",
    "plt.title(\"Normalized Coordination Numbers vs radius\")\n",
    "plt.xlabel(\"Radius [Angstrom]\")\n",
    "plt.ylabel(\"PDF Value\")"
   ]
  },
  {
   "cell_type": "code",
   "execution_count": 16,
   "metadata": {},
   "outputs": [
    {
     "data": {
      "text/plain": [
       "array([  0.        ,   0.        ,   0.        ,   0.        ,\n",
       "         0.        ,   0.        ,   0.        ,   0.        ,\n",
       "         0.        ,   0.        ,   0.        ,   0.        ,\n",
       "         0.        , 153.06122449,   0.        ,   0.        ,\n",
       "         0.        ,   0.        ,   0.        ,  37.5       ])"
      ]
     },
     "execution_count": 16,
     "metadata": {},
     "output_type": "execute_result"
    }
   ],
   "source": [
    "a=r**2\n",
    "np.divide(R[:20],a[:20])"
   ]
  },
  {
   "cell_type": "code",
   "execution_count": null,
   "metadata": {},
   "outputs": [],
   "source": []
  }
 ],
 "metadata": {
  "kernelspec": {
   "display_name": "Python 3",
   "language": "python",
   "name": "python3"
  },
  "language_info": {
   "codemirror_mode": {
    "name": "ipython",
    "version": 3
   },
   "file_extension": ".py",
   "mimetype": "text/x-python",
   "name": "python",
   "nbconvert_exporter": "python",
   "pygments_lexer": "ipython3",
   "version": "3.6.3"
  }
 },
 "nbformat": 4,
 "nbformat_minor": 2
}
