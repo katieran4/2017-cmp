{
 "cells": [
  {
   "cell_type": "code",
   "execution_count": 50,
   "metadata": {},
   "outputs": [
    {
     "name": "stderr",
     "output_type": "stream",
     "text": [
      "C:\\Users\\Katie\\AppData\\Local\\conda\\conda\\envs\\my_root\\lib\\site-packages\\ipykernel_launcher.py:12: RuntimeWarning: divide by zero encountered in true_divide\n",
      "  if sys.path[0] == '':\n"
     ]
    },
    {
     "data": {
      "image/png": "[encoded data removed]",
      "text/plain": [
       "<matplotlib.figure.Figure at 0xadd2810>"
      ]
     },
     "metadata": {},
     "output_type": "display_data"
    },
    {
     "name": "stdout",
     "output_type": "stream",
     "text": [
      "Integral= 0.990523861937\n"
     ]
    }
   ],
   "source": [
    "# Divergence problem, Generate plot of function\n",
    "\n",
    "import matplotlib.pyplot as plt\n",
    "import numpy as np\n",
    "import scipy as sci\n",
    "from math import pi\n",
    "from random import random\n",
    "\n",
    "\n",
    "#define function\n",
    "def f(x):\n",
    "    return 1/np.sqrt(x)/(np.exp(x)+1)\n",
    "\n",
    "#generate plot\n",
    "x = np.linspace(0,1,100)\n",
    "plt.plot(x, f(x))\n",
    "plt.show()\n",
    "\n",
    "#generate random points\n",
    "Randnum= []\n",
    "N=1000000\n",
    "\n",
    "z=np.random.uniform(size=N)\n",
    "y= z**50\n",
    "Randnum.append(y) \n",
    "        \n",
    "#Calculate Integral\n",
    "\n",
    "def w(z):\n",
    "    return z**(-1/2)\n",
    "inte, err =sci.integrate.quad(w, 0,1)\n",
    "\n",
    "def g(y):\n",
    "    return 1/(np.exp(y)+1)\n",
    "\n",
    "\n",
    "def impsamp(N):\n",
    "    I= (1/N)* sum(g(y)) * inte\n",
    "    return I\n",
    "    #print (I)\n",
    "    \n",
    "\n",
    "print('Integral=', impsamp(N))\n",
    "\n",
    "\n",
    "\n"
   ]
  },
  {
   "cell_type": "code",
   "execution_count": null,
   "metadata": {
    "collapsed": true
   },
   "outputs": [],
   "source": []
  }
 ],
 "metadata": {
  "kernelspec": {
   "display_name": "Python 3",
   "language": "python",
   "name": "python3"
  },
  "language_info": {
   "codemirror_mode": {
    "name": "ipython",
    "version": 3
   },
   "file_extension": ".py",
   "mimetype": "text/x-python",
   "name": "python",
   "nbconvert_exporter": "python",
   "pygments_lexer": "ipython3",
   "version": "3.6.1"
  }
 },
 "nbformat": 4,
 "nbformat_minor": 2
}
