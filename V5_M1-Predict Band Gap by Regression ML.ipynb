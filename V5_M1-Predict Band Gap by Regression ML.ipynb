{
 "cells": [
  {
   "cell_type": "code",
   "execution_count": null,
   "metadata": {},
   "outputs": [],
   "source": [
    "'''Objective: Build a model to predict the band gap of a material based on what element it is,\n",
    "            its position in space, and its lattice information, using regression based machine learning'''\n",
    "\n",
    "\n",
    "'''Version goal: to combine all three datasets into a single array X to use in training '''\n",
    "\n",
    "\n",
    "'''Future Version goal: to improve the accuracy predicted by the model'''"
   ]
  },
  {
   "cell_type": "code",
   "execution_count": 39,
   "metadata": {},
   "outputs": [
    {
     "name": "stdout",
     "output_type": "stream",
     "text": [
      "1.0032\n",
      "1.0066\n",
      "2.3992\n",
      "3.3885\n",
      "8.3183\n"
     ]
    }
   ],
   "source": [
    "#Call data\n",
    "\n",
    "from aflow import *\n",
    "\n",
    "result = search(batch_size=20\n",
    "        ).filter(K.Egap > 1\n",
    "        ).filter(K.nspecies == 1\n",
    "        ).filter(K.natoms == 3)\n",
    "\n",
    "#part = result[0:1000]\n",
    "\n",
    "#len(part)\n",
    "#print(result[0].Egap)\n",
    "for entry in result[0:5]:\n",
    "    print(entry.Egap)"
   ]
  },
  {
   "cell_type": "code",
   "execution_count": 40,
   "metadata": {},
   "outputs": [
    {
     "name": "stdout",
     "output_type": "stream",
     "text": [
      "[[34]\n",
      " [ 9]\n",
      " [16]\n",
      " [ 8]\n",
      " [18]\n",
      " [10]]\n"
     ]
    }
   ],
   "source": [
    "#make data right type/shape\n",
    "\n",
    "#make X1 from atomic name to atomic number\n",
    "from mendeleev import element\n",
    "import numpy as np\n",
    "\n",
    "at_num = []\n",
    "\n",
    "for i in result[0:6]:\n",
    "    ele = (i.species[0])\n",
    "    z= ele.replace('\\n','')\n",
    "    number= element(z).atomic_number\n",
    "    #print(number)\n",
    "    at_num.append(number)\n",
    "    \n",
    "#print(at_num)\n",
    "\n",
    "x1= np.asarray(at_num).reshape(-1,1)\n",
    "print(x1)"
   ]
  },
  {
   "cell_type": "code",
   "execution_count": 42,
   "metadata": {},
   "outputs": [
    {
     "name": "stdout",
     "output_type": "stream",
     "text": [
      "[[ 0.21906427 -0.          0.333333   -0.          0.21906427  0.66666633\n",
      "   0.78093573  0.78093573 -0.        ]\n",
      " [ 0.          0.7702899   0.33333333  0.2297101   0.2297101   0.66666667\n",
      "   0.7702899   0.          0.        ]\n",
      " [ 0.          0.83014186  0.33333333  0.16985814  0.16985814  0.66666667\n",
      "   0.83014186  0.          0.        ]\n",
      " [ 0.          0.84434152  0.33333333  0.15565848  0.15565848  0.66666667\n",
      "   0.84434152  0.          0.        ]\n",
      " [ 0.          0.66717743  0.33333333  0.33282257  0.33282257  0.66666667\n",
      "   0.66717743  0.          0.        ]\n",
      " [ 0.          0.66595466  0.33333333  0.33404534  0.33404534  0.66666667\n",
      "   0.66595466  0.          0.        ]]\n"
     ]
    }
   ],
   "source": [
    "import numpy as np\n",
    "pos=[]\n",
    "for entry in result[0:6]:\n",
    "    x2= entry.positions_fractional\n",
    "    pos.append(x2)\n",
    "\n",
    "#print(pos)\n",
    "\n",
    "X2= np.asarray(pos).reshape(6,9)\n",
    "\n",
    "print(X2)"
   ]
  },
  {
   "cell_type": "code",
   "execution_count": 43,
   "metadata": {},
   "outputs": [
    {
     "name": "stdout",
     "output_type": "stream",
     "text": [
      "[[  4.523779   4.523779   5.049212  90.        90.       120.      ]\n",
      " [  3.546542   3.546542   3.910963  90.        90.       120.      ]\n",
      " [  4.962433   4.962433   4.412037  90.        90.       120.      ]\n",
      " [  3.733926   3.733926   3.113593  90.        90.       120.      ]\n",
      " [  4.970289   4.970289   6.944262  90.        90.       120.      ]\n",
      " [  3.458094   3.458094   6.266973  90.        90.       120.      ]]\n"
     ]
    }
   ],
   "source": [
    "\n",
    "geo=[]\n",
    "\n",
    "for entry in result[0:6]:\n",
    "    #x2= entry.positions_fractional\n",
    "    #X2.append(x2)\n",
    "    \n",
    "    x3= entry.geometry\n",
    "    #print(X3)\n",
    "    geo.append(x3)\n",
    "    \n",
    "#print(geo)\n",
    "\n",
    "\n",
    "x3=np.asarray(geo).reshape(6,6)\n",
    "\n",
    "print(x3)\n"
   ]
  },
  {
   "cell_type": "code",
   "execution_count": 44,
   "metadata": {},
   "outputs": [
    {
     "data": {
      "text/plain": [
       "(6, 16)"
      ]
     },
     "execution_count": 44,
     "metadata": {},
     "output_type": "execute_result"
    }
   ],
   "source": [
    "X= np.hstack((x3,x1,X2))\n",
    "\n",
    "\n",
    "X.shape"
   ]
  },
  {
   "cell_type": "code",
   "execution_count": 45,
   "metadata": {},
   "outputs": [
    {
     "name": "stdout",
     "output_type": "stream",
     "text": [
      "[[ 1.0032]\n",
      " [ 1.0066]\n",
      " [ 2.3992]\n",
      " [ 3.3885]\n",
      " [ 8.3183]\n",
      " [11.4992]]\n"
     ]
    }
   ],
   "source": [
    "y=[]\n",
    "for entry in result[0:6]:\n",
    "    BG= entry.Egap\n",
    "    y.append(BG)\n",
    "    \n",
    "Y=np.asarray(y).reshape(-1,1)\n",
    "\n",
    "print(Y)"
   ]
  },
  {
   "cell_type": "code",
   "execution_count": 46,
   "metadata": {},
   "outputs": [
    {
     "name": "stderr",
     "output_type": "stream",
     "text": [
      "C:\\Users\\Katie\\Miniconda3\\lib\\site-packages\\sklearn\\cross_validation.py:41: DeprecationWarning: This module was deprecated in version 0.18 in favor of the model_selection module into which all the refactored classes and functions are moved. Also note that the interface of the new CV iterators are different from that of this module. This module will be removed in 0.20.\n",
      "  \"This module will be removed in 0.20.\", DeprecationWarning)\n"
     ]
    }
   ],
   "source": [
    "#Split the data\n",
    "\n",
    "from sklearn.cross_validation import train_test_split\n",
    "\n",
    "\n",
    "X_train, X_test, Y_train, Y_test = train_test_split(X, Y, random_state=10)"
   ]
  },
  {
   "cell_type": "code",
   "execution_count": 65,
   "metadata": {},
   "outputs": [],
   "source": [
    "#implement KNeighborsRegressor---choose estimator\n",
    "\n",
    "from sklearn.neighbors import KNeighborsRegressor\n",
    "estimator = KNeighborsRegressor(4, weights='distance', algorithm='kd_tree', leaf_size=3000,)"
   ]
  },
  {
   "cell_type": "code",
   "execution_count": 66,
   "metadata": {},
   "outputs": [
    {
     "name": "stdout",
     "output_type": "stream",
     "text": [
      "The accuracy is 0.0%\n"
     ]
    }
   ],
   "source": [
    "#train data\n",
    "\n",
    "#X2_train, X3_train,\n",
    "\n",
    "import numpy as np\n",
    "import matplotlib.pyplot as plt\n",
    "\n",
    "estimator.fit(X_train,  Y_train)\n",
    "y_predicted = estimator.predict(X_test)\n",
    "\n",
    "#test the accuracy\n",
    "accuracy = np.mean(Y_test == y_predicted) *100\n",
    "print(\"The accuracy is {0:.1f}%\".format(accuracy))\n",
    "\n"
   ]
  },
  {
   "cell_type": "code",
   "execution_count": 67,
   "metadata": {},
   "outputs": [
    {
     "data": {
      "image/png": "[encoded data removed]",
      "text/plain": [
       "<matplotlib.figure.Figure at 0x2135cf29ef0>"
      ]
     },
     "metadata": {},
     "output_type": "display_data"
    },
    {
     "data": {
      "image/png": "[encoded data removed]",
      "text/plain": [
       "<matplotlib.figure.Figure at 0x2135ce58e48>"
      ]
     },
     "metadata": {},
     "output_type": "display_data"
    }
   ],
   "source": [
    "plt.plot(X_train, Y_train)\n",
    "plt.show()\n",
    "plt.plot(X_test, y_predicted)\n",
    "plt.show()"
   ]
  },
  {
   "cell_type": "code",
   "execution_count": null,
   "metadata": {},
   "outputs": [],
   "source": []
  }
 ],
 "metadata": {
  "kernelspec": {
   "display_name": "Python 3",
   "language": "python",
   "name": "python3"
  },
  "language_info": {
   "codemirror_mode": {
    "name": "ipython",
    "version": 3
   },
   "file_extension": ".py",
   "mimetype": "text/x-python",
   "name": "python",
   "nbconvert_exporter": "python",
   "pygments_lexer": "ipython3",
   "version": "3.6.3"
  }
 },
 "nbformat": 4,
 "nbformat_minor": 2
}
